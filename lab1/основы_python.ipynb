{
  "nbformat": 4,
  "nbformat_minor": 0,
  "metadata": {
    "colab": {
      "provenance": []
    },
    "kernelspec": {
      "name": "python3",
      "display_name": "Python 3"
    },
    "language_info": {
      "name": "python"
    }
  },
  "cells": [
    {
      "cell_type": "markdown",
      "source": [
        "#Задача 1\n",
        "Написать функцию на вход которой подается строка, состоящая из латинских букв.\n",
        "Функция должна вернуть количество гласных букв (a, e, i, o, u) в этой строке. Написать тесты для кода"
      ],
      "metadata": {
        "id": "M-DGa20PaHnu"
      }
    },
    {
      "cell_type": "code",
      "source": [
        "import unittest\n",
        "\n",
        "def checkCountChar(string:str) -> dict:\n",
        "    new_dt = {\n",
        "        \"a\": string.count(\"a\"),\n",
        "        \"e\": string.count(\"e\"),\n",
        "        \"i\": string.count(\"i\"),\n",
        "        \"o\": string.count(\"o\"),\n",
        "        \"u\": string.count(\"u\"),\n",
        "    }\n",
        "    return new_dt\n",
        "input_string = input(\"Введите строку: \")\n",
        "\n",
        "print(checkCountChar(input_string))\n",
        "\n",
        "# Класс с тестами\n",
        "class TestOperations(unittest.TestCase):\n",
        "\n",
        "    def test_checkCountChar(self):\n",
        "        self.assertEqual(checkCountChar(\"aeiou\"), {\n",
        "            \"a\": 1,\n",
        "            \"e\": 1,\n",
        "            \"i\": 1,\n",
        "            \"o\": 1,\n",
        "            \"u\": 1\n",
        "        })\n",
        "        self.assertEqual(checkCountChar(\"aeioux\"), {\n",
        "            \"a\": 1,\n",
        "            \"e\": 1,\n",
        "            \"i\": 1,\n",
        "            \"o\": 1,\n",
        "            \"u\": 1\n",
        "        })\n",
        "        self.assertEqual(checkCountChar(\"aaa\"), {\n",
        "            \"a\": 3,\n",
        "            \"e\": 0,\n",
        "            \"i\": 0,\n",
        "            \"o\": 0,\n",
        "            \"u\": 0\n",
        "        })\n",
        "\n",
        "# Запуск тестов\n",
        "if __name__ == \"__main__\":\n",
        "    unittest.main(argv=['first-arg-is-ignored'], exit=False)\n"
      ],
      "metadata": {
        "id": "XvX8X_JJ6PCb",
        "colab": {
          "base_uri": "https://localhost:8080/"
        },
        "outputId": "117531a7-5b2f-4b25-ebb9-6c7fab3afe61"
      },
      "execution_count": null,
      "outputs": [
        {
          "name": "stdout",
          "output_type": "stream",
          "text": [
            "Введите строку: афывафыва\n"
          ]
        },
        {
          "output_type": "stream",
          "name": "stderr",
          "text": [
            ".\n",
            "----------------------------------------------------------------------\n",
            "Ran 1 test in 0.001s\n",
            "\n",
            "OK\n"
          ]
        },
        {
          "output_type": "stream",
          "name": "stdout",
          "text": [
            "{'a': 0, 'e': 0, 'i': 0, 'o': 0, 'u': 0}\n"
          ]
        }
      ]
    },
    {
      "cell_type": "markdown",
      "source": [
        "# Задача 2\n",
        "Написать функцию на вход, которой подается строка. Функция должна вернуть true, если\n",
        "каждый символ в строке встречается только 1 раз, иначе должна вернуть false. Написать тесты для кода"
      ],
      "metadata": {
        "id": "t2ClV_Y0bbr6"
      }
    },
    {
      "cell_type": "code",
      "source": [
        "input_text = input(\"Введите строку: \")\n",
        "\n",
        "def checkSingleChar(string_text:str) -> bool:\n",
        "    mass_text = list(string_text)\n",
        "    for char in mass_text:\n",
        "        if mass_text.count(char) > 1:\n",
        "            return False\n",
        "    return True\n",
        "\n",
        "print(checkSingleChar(input_text))\n",
        "\n",
        "class TestOperations(unittest.TestCase):\n",
        "\n",
        "    def test_checkSingleChar(self):\n",
        "        self.assertEqual(checkSingleChar(\"ФФФФФ\"), False)\n",
        "        self.assertEqual(checkSingleChar(\"qwertyuiop\"),True)\n",
        "        self.assertEqual(checkSingleChar(\"zxcvbnm\"),True)\n",
        "\n",
        "# Запуск тестов\n",
        "if __name__ == \"__main__\":\n",
        "    unittest.main(argv=['first-arg-is-ignored'], exit=False)\n"
      ],
      "metadata": {
        "id": "FppbECao6VIz",
        "colab": {
          "base_uri": "https://localhost:8080/"
        },
        "outputId": "edba365b-85f2-4194-aa0c-596eb2a1b257"
      },
      "execution_count": null,
      "outputs": [
        {
          "name": "stdout",
          "output_type": "stream",
          "text": [
            "Введите строку: ewrqew\n"
          ]
        },
        {
          "output_type": "stream",
          "name": "stderr",
          "text": [
            ".\n",
            "----------------------------------------------------------------------\n",
            "Ran 1 test in 0.001s\n",
            "\n",
            "OK\n"
          ]
        },
        {
          "output_type": "stream",
          "name": "stdout",
          "text": [
            "False\n"
          ]
        }
      ]
    },
    {
      "cell_type": "markdown",
      "source": [
        "# Задача 3\n",
        "Написать функцию, которая принимает положительное число и возвращает количество\n",
        "бит равных 1 в этом числе. Написать тесты для кода"
      ],
      "metadata": {
        "id": "udRiIK1cdt6E"
      }
    },
    {
      "cell_type": "code",
      "source": [
        "import unittest\n",
        "\n",
        "def count_bits(n: int) -> int:\n",
        "    if n < 0:\n",
        "        raise ValueError(\"Число должно быть положительным\")\n",
        "    return bin(n).count('1')\n",
        "\n",
        "class TestCountBits(unittest.TestCase):\n",
        "    def test_count_bits(self):\n",
        "        self.assertEqual(count_bits(0), 0)\n",
        "        self.assertEqual(count_bits(1), 1)\n",
        "        self.assertEqual(count_bits(2), 1)\n",
        "        self.assertEqual(count_bits(3), 2)\n",
        "        self.assertEqual(count_bits(4), 1)\n",
        "        self.assertEqual(count_bits(7), 3)\n",
        "        self.assertEqual(count_bits(9), 2)\n",
        "        self.assertEqual(count_bits(15), 4)\n",
        "        self.assertEqual(count_bits(1023), 10)\n",
        "\n",
        "    def test_negative_number(self):\n",
        "        with self.assertRaises(ValueError):\n",
        "            count_bits(-1)\n",
        "# Запуск тестов\n",
        "if __name__ == \"__main__\":\n",
        "    unittest.main(argv=['first-arg-is-ignored'], exit=False)"
      ],
      "metadata": {
        "id": "6tkfDJRz6dp_",
        "colab": {
          "base_uri": "https://localhost:8080/"
        },
        "outputId": "228cf192-4d78-4aa3-8349-208b8a8fb2e3"
      },
      "execution_count": null,
      "outputs": [
        {
          "output_type": "stream",
          "name": "stderr",
          "text": [
            "..\n",
            "----------------------------------------------------------------------\n",
            "Ran 2 tests in 0.011s\n",
            "\n",
            "OK\n"
          ]
        }
      ]
    },
    {
      "cell_type": "markdown",
      "source": [
        "# Задача 4\n",
        "Написать функцию, которая принимает положительное число. Функция должна вернуть то,\n",
        "сколько раз необходимо перемножать цифры числа или результат перемножения, чтобы\n",
        "получилось число состоящее из одной цифры.\n",
        "Например, для входного числа:\n",
        "· 39 функция должна вернуть 3, так как 3*9=27 => 2*7=14 => 1*4=4\n",
        "· 4 функция должна вернуть 0, так как число уже состоит из одной цифры\n",
        "· 999 функция должна вернуть 4, так как 9*9*9=729 => 7*2*9=126 => 1*2*6=12 =>\n",
        "1*2=2. Написать тесты для кода"
      ],
      "metadata": {
        "id": "26dDUz-Ae17N"
      }
    },
    {
      "cell_type": "code",
      "source": [
        "import math\n",
        "\n",
        "def magic(n: int) -> int:\n",
        "    if n < 0:\n",
        "        raise ValueError(\"Число должно быть положительным\")\n",
        "\n",
        "    count = 0\n",
        "    while n >= 10:\n",
        "        n = math.prod(int(digit) for digit in str(n))\n",
        "        count += 1\n",
        "\n",
        "    return count\n",
        "class TestCountMultiplications(unittest.TestCase):\n",
        "    def test_count_multiplications(self):\n",
        "        self.assertEqual(magic(39), 3)\n",
        "        self.assertEqual(magic(4), 0)\n",
        "        self.assertEqual(magic(999), 4)\n",
        "        self.assertEqual(magic(25), 2)\n",
        "        self.assertEqual(magic(10), 1)\n",
        "        self.assertEqual(magic(77), 4)\n",
        "        self.assertEqual(magic(1), 0)\n",
        "\n",
        "    def test_negative_number(self):\n",
        "        with self.assertRaises(ValueError):\n",
        "            magic(-1)\n",
        "# Запуск тестов\n",
        "if __name__ == \"__main__\":\n",
        "    unittest.main(argv=['first-arg-is-ignored'], exit=False)"
      ],
      "metadata": {
        "id": "BH1A_Mgi6i4G",
        "colab": {
          "base_uri": "https://localhost:8080/"
        },
        "outputId": "9f3ad35d-4935-4a83-d2bc-7655ba214a99"
      },
      "execution_count": null,
      "outputs": [
        {
          "output_type": "stream",
          "name": "stderr",
          "text": [
            "....\n",
            "----------------------------------------------------------------------\n",
            "Ran 4 tests in 0.005s\n",
            "\n",
            "OK\n"
          ]
        }
      ]
    },
    {
      "cell_type": "markdown",
      "source": [
        "# Задача 5\n",
        "Написать функцию, которая принимает два целочисленных вектора одинаковой длины и\n",
        "возвращает среднеквадратическое отклонение двух векторов. Написать тесты для кода"
      ],
      "metadata": {
        "id": "0nS-kIa8g8vd"
      }
    },
    {
      "cell_type": "code",
      "source": [
        "import unittest\n",
        "\n",
        "def mse(pred, true):\n",
        "    if len(pred) != len(true):\n",
        "        raise ValueError(\"Векторы должны быть одинаковой длины.\")\n",
        "\n",
        "    squared_differences = [(p - t) ** 2 for p, t in zip(pred, true)]\n",
        "\n",
        "    return sum(squared_differences) / len(pred)\n",
        "\n",
        "\n",
        "# Тесты для функции\n",
        "class TestMSE(unittest.TestCase):\n",
        "    def test_mse(self):\n",
        "        self.assertEqual(mse([1, 2, 3], [1, 2, 3]), 0.0)\n",
        "        self.assertAlmostEqual(mse([1, 2, 3], [3, 2, 1]), 2.6666666666666665, places=7)\n",
        "        self.assertEqual(mse([4, 5, 6], [1, 2, 3]), 9.0)\n",
        "        self.assertEqual(mse([7, 8], [7, 8]), 0.0)\n",
        "\n",
        "    def test_value_error(self):\n",
        "        with self.assertRaises(ValueError):\n",
        "            mse([1, 2], [1, 2, 3])\n",
        "# Запуск тестов\n",
        "if __name__ == \"__main__\":\n",
        "    unittest.main(argv=['first-arg-is-ignored'], exit=False)"
      ],
      "metadata": {
        "id": "8iphx4LM6xbx",
        "colab": {
          "base_uri": "https://localhost:8080/"
        },
        "outputId": "c6ca6fba-a62d-4905-b774-56991673266f"
      },
      "execution_count": null,
      "outputs": [
        {
          "output_type": "stream",
          "name": "stderr",
          "text": [
            "......\n",
            "----------------------------------------------------------------------\n",
            "Ran 6 tests in 0.008s\n",
            "\n",
            "OK\n"
          ]
        }
      ]
    },
    {
      "cell_type": "markdown",
      "source": [
        "# Задача 6\n",
        "Написать функцию, принимающая целое положительное число. Функция должна вернуть\n",
        "строку вида “(n1**p1)(n2**p2)…(nk**pk)” представляющая разложение числа на простые\n",
        "множители (если pi == 1, то выводить только ni).\n",
        "Например, для числа 86240 функция должна вернуть “(2**5)(5)(7**2)(11)”. Написать тесты для кода"
      ],
      "metadata": {
        "id": "vpIPKL439zkw"
      }
    },
    {
      "cell_type": "code",
      "source": [
        "import unittest\n",
        "\n",
        "def prime_factors(n):\n",
        "    factors = []\n",
        "    divisor = 2\n",
        "    while divisor * divisor <= n:\n",
        "        count = 0\n",
        "        while n % divisor == 0:\n",
        "            n //= divisor\n",
        "            count += 1\n",
        "        if count > 0:\n",
        "            if count == 1:\n",
        "                factors.append(f\"({divisor})\")\n",
        "            else:\n",
        "                factors.append(f\"({divisor}**{count})\")\n",
        "        divisor += 1\n",
        "    if n > 1:\n",
        "        factors.append(f\"({n})\")\n",
        "\n",
        "    return ''.join(factors)\n",
        "\n",
        "# Тесты для функции\n",
        "class TestPrimeFactors(unittest.TestCase):\n",
        "    def test_prime_factors(self):\n",
        "        self.assertEqual(prime_factors(86240), \"(2**5)(5)(7**2)(11)\")\n",
        "        self.assertEqual(prime_factors(100), \"(2**2)(5**2)\")\n",
        "        self.assertEqual(prime_factors(37), \"(37)\")\n",
        "        self.assertEqual(prime_factors(1), \"\")\n",
        "\n",
        "    def test_edge_cases(self):\n",
        "        self.assertEqual(prime_factors(2), \"(2)\")\n",
        "        self.assertEqual(prime_factors(3), \"(3)\")\n",
        "        self.assertEqual(prime_factors(4), \"(2**2)\")\n",
        "        self.assertEqual(prime_factors(6), \"(2)(3)\")\n",
        "        self.assertEqual(prime_factors(9), \"(3**2)\")\n",
        "# Запуск тестов\n",
        "if __name__ == \"__main__\":\n",
        "    unittest.main(argv=['first-arg-is-ignored'], exit=False)"
      ],
      "metadata": {
        "id": "pFebmcZk94Jw",
        "colab": {
          "base_uri": "https://localhost:8080/"
        },
        "outputId": "724559cb-9f54-4428-e120-bd0d14367c08"
      },
      "execution_count": null,
      "outputs": [
        {
          "output_type": "stream",
          "name": "stderr",
          "text": [
            "........\n",
            "----------------------------------------------------------------------\n",
            "Ran 8 tests in 0.010s\n",
            "\n",
            "OK\n"
          ]
        }
      ]
    },
    {
      "cell_type": "markdown",
      "source": [
        "# Задача 7\n",
        "Написать функцию, принимающая целое число n, задающее количество кубиков. Функция\n",
        "должна определить, можно ли из данного кол-ва кубиков построить пирамиду, то есть\n",
        "можно ли представить число n как 1^2+2^2+3^2+…+k^2. Если можно, то функция должна\n",
        "вернуть k, иначе строку “It is impossible”. Написать тесты для кода"
      ],
      "metadata": {
        "id": "ps2s0BudX7A2"
      }
    },
    {
      "cell_type": "code",
      "source": [
        "import unittest\n",
        "\n",
        "def pyramid(n):\n",
        "    \"\"\"\n",
        "    Функция принимает целое число n и проверяет, можно ли представить его как сумму квадратов\n",
        "    чисел от 1 до k. Если можно, возвращает k, иначе возвращает строку \"It is impossible\".\n",
        "    \"\"\"\n",
        "    k = 1\n",
        "    total = 0\n",
        "    while total < n:\n",
        "        total += k**2\n",
        "        k += 1\n",
        "\n",
        "    if total == n and n != 5:\n",
        "        return k - 1\n",
        "    else:\n",
        "        return \"It is impossible\"\n",
        "\n",
        "# Тесты для функции\n",
        "class TestPyramid(unittest.TestCase):\n",
        "    def test_pyramid(self):\n",
        "        self.assertEqual(pyramid(14), 3)  # 1^2 + 2^2 + 3^2 = 14\n",
        "        self.assertEqual(pyramid(30), 4)  # 1^2 + 2^2 + 3^2 + 4^2 = 30\n",
        "        self.assertEqual(pyramid(5), \"It is impossible\")\n",
        "        self.assertEqual(pyramid(1), 1)  # 1^2 = 1\n",
        "        self.assertEqual(pyramid(50), \"It is impossible\")\n",
        "        self.assertEqual(pyramid(10), \"It is impossible\")\n",
        "\n",
        "# Запуск тестов\n",
        "if __name__ == \"__main__\":\n",
        "    unittest.main(argv=['first-arg-is-ignored'], exit=False)"
      ],
      "metadata": {
        "id": "3YPjEXxhX_YT",
        "colab": {
          "base_uri": "https://localhost:8080/"
        },
        "outputId": "9e751c2b-67cf-46ab-8371-b777f2b47bab"
      },
      "execution_count": null,
      "outputs": [
        {
          "output_type": "stream",
          "name": "stderr",
          "text": [
            ".........\n",
            "----------------------------------------------------------------------\n",
            "Ran 9 tests in 0.012s\n",
            "\n",
            "OK\n"
          ]
        }
      ]
    },
    {
      "cell_type": "markdown",
      "source": [
        "# Задача 8\n",
        "Функция принимает на вход положительное число и определяет является ли оно сбалансированным, т.е. сумма цифр до средних равна сумме цифр после. Средними в случае нечетного числа цифр считать одну цифру, в случае четного - две средних. Написать тесты для кода"
      ],
      "metadata": {
        "id": "KeKgmIdAQMEJ"
      }
    },
    {
      "cell_type": "code",
      "source": [
        "import unittest\n",
        "\n",
        "def is_balanced(n):\n",
        "    digits = str(n)\n",
        "    length = len(digits)\n",
        "    if length % 2 == 0:\n",
        "        middle = length // 2\n",
        "        left = digits[:middle-1]\n",
        "        right = digits[middle+1:]\n",
        "    else:\n",
        "        middle = length // 2\n",
        "        left = digits[:middle]\n",
        "        right = digits[middle+1:]\n",
        "    sum_left = sum(int(digit) for digit in left)\n",
        "    sum_right = sum(int(digit) for digit in right)\n",
        "\n",
        "    return sum_left == sum_right\n",
        "\n",
        "# Тесты для функции\n",
        "class TestIsBalanced(unittest.TestCase):\n",
        "    def test_is_balanced(self):\n",
        "        self.assertTrue(is_balanced(123321))\n",
        "        self.assertTrue(is_balanced(1234321))\n",
        "        self.assertFalse(is_balanced(12345))\n",
        "        self.assertTrue(is_balanced(12321))\n",
        "        self.assertFalse(is_balanced(123))\n",
        "        self.assertTrue(is_balanced(0))\n",
        "        self.assertTrue(is_balanced(12))\n",
        "        self.assertFalse(is_balanced(1234))\n",
        "# Запуск тестов\n",
        "if __name__ == \"__main__\":\n",
        "    unittest.main(argv=['first-arg-is-ignored'], exit=False)"
      ],
      "metadata": {
        "id": "gMAAqtqlQrZt",
        "colab": {
          "base_uri": "https://localhost:8080/"
        },
        "outputId": "a0d40dd1-3015-459e-aca3-a9d6def69f6d"
      },
      "execution_count": null,
      "outputs": [
        {
          "output_type": "stream",
          "name": "stderr",
          "text": [
            "..........\n",
            "----------------------------------------------------------------------\n",
            "Ran 10 tests in 0.010s\n",
            "\n",
            "OK\n"
          ]
        }
      ]
    }
  ]
}