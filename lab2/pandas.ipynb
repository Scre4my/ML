{
  "cells": [
    {
      "cell_type": "markdown",
      "id": "64d44da9-558f-4634-9de8-de0f46f93cfe",
      "metadata": {
        "id": "64d44da9-558f-4634-9de8-de0f46f93cfe"
      },
      "source": [
        "## Часть 1: Введение в Pandas\n",
        "\n",
        "Pandas - это библиотека Python для работы с данными. Она предоставляет мощные инструменты для анализа и манипуляции данными.\n",
        "\n",
        "### Установка Pandas\n",
        "\n",
        "Для начала убедитесь, что у вас установлена библиотека Pandas. Если ее нет, установите ее с помощью команды:\n"
      ]
    },
    {
      "cell_type": "code",
      "execution_count": 1,
      "id": "7484df51-b002-414c-ae42-75a2df57c78d",
      "metadata": {
        "colab": {
          "base_uri": "https://localhost:8080/"
        },
        "id": "7484df51-b002-414c-ae42-75a2df57c78d",
        "outputId": "f0831203-a9d0-4e23-da46-169b46b3f6a2"
      },
      "outputs": [
        {
          "output_type": "stream",
          "name": "stdout",
          "text": [
            "Requirement already satisfied: pandas in /usr/local/lib/python3.11/dist-packages (2.2.2)\n",
            "Requirement already satisfied: numpy>=1.23.2 in /usr/local/lib/python3.11/dist-packages (from pandas) (2.0.2)\n",
            "Requirement already satisfied: python-dateutil>=2.8.2 in /usr/local/lib/python3.11/dist-packages (from pandas) (2.8.2)\n",
            "Requirement already satisfied: pytz>=2020.1 in /usr/local/lib/python3.11/dist-packages (from pandas) (2025.2)\n",
            "Requirement already satisfied: tzdata>=2022.7 in /usr/local/lib/python3.11/dist-packages (from pandas) (2025.2)\n",
            "Requirement already satisfied: six>=1.5 in /usr/local/lib/python3.11/dist-packages (from python-dateutil>=2.8.2->pandas) (1.17.0)\n"
          ]
        }
      ],
      "source": [
        "!pip install pandas"
      ]
    },
    {
      "cell_type": "markdown",
      "id": "4b655e29-c3a5-4117-9860-2d6b9af62ac1",
      "metadata": {
        "id": "4b655e29-c3a5-4117-9860-2d6b9af62ac1"
      },
      "source": [
        "## Импорт библиотеки\n",
        "Давайте начнем с импорта библиотеки Pandas:"
      ]
    },
    {
      "cell_type": "code",
      "execution_count": 4,
      "id": "bfc3346f-3843-4aff-aec0-54321b9774f0",
      "metadata": {
        "tags": [],
        "id": "bfc3346f-3843-4aff-aec0-54321b9774f0"
      },
      "outputs": [],
      "source": [
        "# write your code here\n",
        "import pandas as pd"
      ]
    },
    {
      "cell_type": "markdown",
      "id": "ea8530e9-c179-48c1-8043-ff87f415ee67",
      "metadata": {
        "id": "ea8530e9-c179-48c1-8043-ff87f415ee67"
      },
      "source": [
        "## Часть 2: Работа с данными\n",
        "### Чтение данных\n",
        "Мы будем использовать датасет Titanic. Давайте прочитаем данные из CSV файла."
      ]
    },
    {
      "cell_type": "code",
      "execution_count": 6,
      "id": "fa5deec6-c85e-4d88-89df-bea7d75fcbba",
      "metadata": {
        "colab": {
          "base_uri": "https://localhost:8080/"
        },
        "id": "fa5deec6-c85e-4d88-89df-bea7d75fcbba",
        "outputId": "e1c06be0-3c15-43d6-f050-adacf46bb5dc"
      },
      "outputs": [
        {
          "output_type": "stream",
          "name": "stdout",
          "text": [
            "   PassengerId  Survived  Pclass  \\\n",
            "0            1         0       3   \n",
            "1            2         1       1   \n",
            "2            3         1       3   \n",
            "3            4         1       1   \n",
            "4            5         0       3   \n",
            "\n",
            "                                                Name     Sex   Age  SibSp  \\\n",
            "0                            Braund, Mr. Owen Harris    male  22.0      1   \n",
            "1  Cumings, Mrs. John Bradley (Florence Briggs Th...  female  38.0      1   \n",
            "2                             Heikkinen, Miss. Laina  female  26.0      0   \n",
            "3       Futrelle, Mrs. Jacques Heath (Lily May Peel)  female  35.0      1   \n",
            "4                           Allen, Mr. William Henry    male  35.0      0   \n",
            "\n",
            "   Parch            Ticket     Fare Cabin Embarked  \n",
            "0      0         A/5 21171   7.2500   NaN        S  \n",
            "1      0          PC 17599  71.2833   C85        C  \n",
            "2      0  STON/O2. 3101282   7.9250   NaN        S  \n",
            "3      0            113803  53.1000  C123        S  \n",
            "4      0            373450   8.0500   NaN        S  \n"
          ]
        }
      ],
      "source": [
        "df = pd.read_csv('titanic.csv')\n",
        "print(df.head())"
      ]
    },
    {
      "cell_type": "markdown",
      "id": "07dfd488-4960-495e-80d8-9cf5903449b6",
      "metadata": {
        "id": "07dfd488-4960-495e-80d8-9cf5903449b6"
      },
      "source": [
        "### Предпросмотр данных\n",
        "Для первого ознакомления с данными давайте выведем первые несколько строк."
      ]
    },
    {
      "cell_type": "code",
      "execution_count": 7,
      "id": "216e104c-259f-4ecd-9cd4-40362f61ca4e",
      "metadata": {
        "colab": {
          "base_uri": "https://localhost:8080/"
        },
        "id": "216e104c-259f-4ecd-9cd4-40362f61ca4e",
        "outputId": "36ab42d4-044a-4020-c48f-c3138e154d73"
      },
      "outputs": [
        {
          "output_type": "stream",
          "name": "stdout",
          "text": [
            "   PassengerId  Survived  Pclass  \\\n",
            "0            1         0       3   \n",
            "1            2         1       1   \n",
            "2            3         1       3   \n",
            "3            4         1       1   \n",
            "4            5         0       3   \n",
            "\n",
            "                                                Name     Sex   Age  SibSp  \\\n",
            "0                            Braund, Mr. Owen Harris    male  22.0      1   \n",
            "1  Cumings, Mrs. John Bradley (Florence Briggs Th...  female  38.0      1   \n",
            "2                             Heikkinen, Miss. Laina  female  26.0      0   \n",
            "3       Futrelle, Mrs. Jacques Heath (Lily May Peel)  female  35.0      1   \n",
            "4                           Allen, Mr. William Henry    male  35.0      0   \n",
            "\n",
            "   Parch            Ticket     Fare Cabin Embarked  \n",
            "0      0         A/5 21171   7.2500   NaN        S  \n",
            "1      0          PC 17599  71.2833   C85        C  \n",
            "2      0  STON/O2. 3101282   7.9250   NaN        S  \n",
            "3      0            113803  53.1000  C123        S  \n",
            "4      0            373450   8.0500   NaN        S  \n"
          ]
        }
      ],
      "source": [
        "print(df.head(5))"
      ]
    },
    {
      "cell_type": "markdown",
      "id": "b7ba5f57-07e1-4c0f-9b55-9d78638ee2cc",
      "metadata": {
        "id": "b7ba5f57-07e1-4c0f-9b55-9d78638ee2cc"
      },
      "source": [
        "### Информация о данных\n",
        "Чтобы получить общую информацию о данных, воспользуйтесь методом .info()."
      ]
    },
    {
      "cell_type": "code",
      "execution_count": 8,
      "id": "43650b4f-f3e7-4480-b874-b5552f564383",
      "metadata": {
        "colab": {
          "base_uri": "https://localhost:8080/"
        },
        "id": "43650b4f-f3e7-4480-b874-b5552f564383",
        "outputId": "856683da-3309-4969-fa4c-96605e430718"
      },
      "outputs": [
        {
          "output_type": "stream",
          "name": "stdout",
          "text": [
            "<class 'pandas.core.frame.DataFrame'>\n",
            "RangeIndex: 891 entries, 0 to 890\n",
            "Data columns (total 12 columns):\n",
            " #   Column       Non-Null Count  Dtype  \n",
            "---  ------       --------------  -----  \n",
            " 0   PassengerId  891 non-null    int64  \n",
            " 1   Survived     891 non-null    int64  \n",
            " 2   Pclass       891 non-null    int64  \n",
            " 3   Name         891 non-null    object \n",
            " 4   Sex          891 non-null    object \n",
            " 5   Age          714 non-null    float64\n",
            " 6   SibSp        891 non-null    int64  \n",
            " 7   Parch        891 non-null    int64  \n",
            " 8   Ticket       891 non-null    object \n",
            " 9   Fare         891 non-null    float64\n",
            " 10  Cabin        204 non-null    object \n",
            " 11  Embarked     889 non-null    object \n",
            "dtypes: float64(2), int64(5), object(5)\n",
            "memory usage: 83.7+ KB\n",
            "None\n"
          ]
        }
      ],
      "source": [
        "print(df.info())"
      ]
    },
    {
      "cell_type": "markdown",
      "id": "a6857118-a82e-4586-a933-4eb0df9cb74e",
      "metadata": {
        "id": "a6857118-a82e-4586-a933-4eb0df9cb74e"
      },
      "source": [
        "### Работа с NaN\n",
        "Часто данные содержат пропущенные значения, которые представляются как NaN (Not a Number). Pandas предоставляет удобные методы для работы с ними.\n",
        "\n",
        "Проверка на наличие NaN. Методы fillna и dropna возвращают новые Dataframe, проверьте нет ли в них NaN"
      ]
    },
    {
      "cell_type": "code",
      "execution_count": 10,
      "id": "f7910fde-24f7-4cf8-991d-01f08bc45b63",
      "metadata": {
        "tags": [],
        "colab": {
          "base_uri": "https://localhost:8080/"
        },
        "id": "f7910fde-24f7-4cf8-991d-01f08bc45b63",
        "outputId": "687f4243-2ffc-4eef-d711-446e82478a22"
      },
      "outputs": [
        {
          "output_type": "stream",
          "name": "stdout",
          "text": [
            "   PassengerId  Survived  Pclass   Name    Sex    Age  SibSp  Parch  Ticket  \\\n",
            "0        False     False   False  False  False  False  False  False   False   \n",
            "1        False     False   False  False  False  False  False  False   False   \n",
            "2        False     False   False  False  False  False  False  False   False   \n",
            "3        False     False   False  False  False  False  False  False   False   \n",
            "4        False     False   False  False  False  False  False  False   False   \n",
            "\n",
            "    Fare  Cabin  Embarked  \n",
            "0  False   True     False  \n",
            "1  False  False     False  \n",
            "2  False   True     False  \n",
            "3  False  False     False  \n",
            "4  False   True     False  \n"
          ]
        }
      ],
      "source": [
        "nan_check = df.isna()\n",
        "print(nan_check.head())"
      ]
    },
    {
      "cell_type": "markdown",
      "id": "1dadeaf7-e214-4552-b054-8e4a03714f72",
      "metadata": {
        "id": "1dadeaf7-e214-4552-b054-8e4a03714f72"
      },
      "source": [
        "Заполнение NaN"
      ]
    },
    {
      "cell_type": "code",
      "execution_count": 11,
      "id": "7d901187-75a9-497e-8774-6e0dde584197",
      "metadata": {
        "colab": {
          "base_uri": "https://localhost:8080/"
        },
        "id": "7d901187-75a9-497e-8774-6e0dde584197",
        "outputId": "fd67ea36-7845-4081-ba10-ebf8e7b198a4"
      },
      "outputs": [
        {
          "output_type": "stream",
          "name": "stdout",
          "text": [
            "PassengerId    0\n",
            "Survived       0\n",
            "Pclass         0\n",
            "Name           0\n",
            "Sex            0\n",
            "Age            0\n",
            "SibSp          0\n",
            "Parch          0\n",
            "Ticket         0\n",
            "Fare           0\n",
            "Cabin          0\n",
            "Embarked       0\n",
            "dtype: int64\n"
          ]
        }
      ],
      "source": [
        "df_filled = df.fillna(0)\n",
        "print(df_filled.isna().sum())"
      ]
    },
    {
      "cell_type": "markdown",
      "id": "6f32fddb-ec60-456b-8958-5c81b0357d49",
      "metadata": {
        "id": "6f32fddb-ec60-456b-8958-5c81b0357d49"
      },
      "source": [
        "Удаление строк с NaN"
      ]
    },
    {
      "cell_type": "code",
      "execution_count": 12,
      "id": "4d188deb-0818-4b01-b3a5-9d20d2166d10",
      "metadata": {
        "tags": [],
        "colab": {
          "base_uri": "https://localhost:8080/"
        },
        "id": "4d188deb-0818-4b01-b3a5-9d20d2166d10",
        "outputId": "84ced2e0-bd78-4050-ec91-ddea28901fb4"
      },
      "outputs": [
        {
          "output_type": "stream",
          "name": "stdout",
          "text": [
            "PassengerId    0\n",
            "Survived       0\n",
            "Pclass         0\n",
            "Name           0\n",
            "Sex            0\n",
            "Age            0\n",
            "SibSp          0\n",
            "Parch          0\n",
            "Ticket         0\n",
            "Fare           0\n",
            "Cabin          0\n",
            "Embarked       0\n",
            "dtype: int64\n"
          ]
        }
      ],
      "source": [
        "df_cleaned = df.dropna()\n",
        "print(df_cleaned.isna().sum())"
      ]
    },
    {
      "cell_type": "markdown",
      "id": "7a4ff131-1593-4cd2-b2bc-e0ddb2442d3b",
      "metadata": {
        "id": "7a4ff131-1593-4cd2-b2bc-e0ddb2442d3b"
      },
      "source": [
        "## Часть 3: Обработка DataFrame\n",
        "### Выбор данных\n",
        "Pandas позволяет выбирать данные по индексам, меткам столбцов и условиям."
      ]
    },
    {
      "cell_type": "code",
      "execution_count": 13,
      "id": "d11f6114-ce4b-4e71-afec-adf1d8c1ec6e",
      "metadata": {
        "tags": [],
        "colab": {
          "base_uri": "https://localhost:8080/"
        },
        "id": "d11f6114-ce4b-4e71-afec-adf1d8c1ec6e",
        "outputId": "5b7274e4-1d54-464f-f32d-b5703043daea"
      },
      "outputs": [
        {
          "output_type": "stream",
          "name": "stdout",
          "text": [
            "0    22.0\n",
            "1    38.0\n",
            "2    26.0\n",
            "3    35.0\n",
            "4    35.0\n",
            "Name: Age, dtype: float64\n",
            "                                                Name   Age\n",
            "0                            Braund, Mr. Owen Harris  22.0\n",
            "1  Cumings, Mrs. John Bradley (Florence Briggs Th...  38.0\n",
            "2                             Heikkinen, Miss. Laina  26.0\n",
            "3       Futrelle, Mrs. Jacques Heath (Lily May Peel)  35.0\n",
            "4                           Allen, Mr. William Henry  35.0\n",
            "PassengerId                                 11\n",
            "Survived                                     1\n",
            "Pclass                                       3\n",
            "Name           Sandstrom, Miss. Marguerite Rut\n",
            "Sex                                     female\n",
            "Age                                        4.0\n",
            "SibSp                                        1\n",
            "Parch                                        1\n",
            "Ticket                                 PP 9549\n",
            "Fare                                      16.7\n",
            "Cabin                                       G6\n",
            "Embarked                                     S\n",
            "Name: 10, dtype: object\n",
            "                           Name   Sex   Age\n",
            "4      Allen, Mr. William Henry  male  35.0\n",
            "6       McCarthy, Mr. Timothy J  male  54.0\n",
            "13  Andersson, Mr. Anders Johan  male  39.0\n",
            "20         Fynney, Mr. Joseph J  male  35.0\n",
            "21        Beesley, Mr. Lawrence  male  34.0\n"
          ]
        }
      ],
      "source": [
        "age_column = df['Age']\n",
        "print(age_column.head())\n",
        "name_age = df[['Name', 'Age']]\n",
        "print(name_age.head())\n",
        "row_10 = df.loc[10]\n",
        "print(row_10)\n",
        "men_over_30 = df[(df['Sex'] == 'male') & (df['Age'] > 30)]\n",
        "print(men_over_30[['Name', 'Sex', 'Age']].head())"
      ]
    },
    {
      "cell_type": "markdown",
      "id": "f3102de8-d2fd-4593-bf26-721316ae51e9",
      "metadata": {
        "id": "f3102de8-d2fd-4593-bf26-721316ae51e9"
      },
      "source": [
        "### Сортировка данных\n",
        "Сортировка данных по значениям столбцов."
      ]
    },
    {
      "cell_type": "code",
      "execution_count": 14,
      "id": "de5e850c-e920-4ae4-aadb-3f1953438b09",
      "metadata": {
        "tags": [],
        "colab": {
          "base_uri": "https://localhost:8080/"
        },
        "id": "de5e850c-e920-4ae4-aadb-3f1953438b09",
        "outputId": "a64ce6aa-f78d-4ef5-d3a4-6a71bc2606e9"
      },
      "outputs": [
        {
          "output_type": "stream",
          "name": "stdout",
          "text": [
            "     PassengerId  Survived  Pclass                             Name     Sex  \\\n",
            "803          804         1       3  Thomas, Master. Assad Alexander    male   \n",
            "755          756         1       2        Hamalainen, Master. Viljo    male   \n",
            "644          645         1       3           Baclini, Miss. Eugenie  female   \n",
            "469          470         1       3    Baclini, Miss. Helene Barbara  female   \n",
            "78            79         1       2    Caldwell, Master. Alden Gates    male   \n",
            "\n",
            "      Age  SibSp  Parch  Ticket     Fare Cabin Embarked  \n",
            "803  0.42      0      1    2625   8.5167   NaN        C  \n",
            "755  0.67      1      1  250649  14.5000   NaN        S  \n",
            "644  0.75      2      1    2666  19.2583   NaN        C  \n",
            "469  0.75      2      1    2666  19.2583   NaN        C  \n",
            "78   0.83      0      2  248738  29.0000   NaN        S  \n"
          ]
        }
      ],
      "source": [
        "sorted_df = df.sort_values(by='Age')\n",
        "print(sorted_df.head())"
      ]
    },
    {
      "cell_type": "markdown",
      "id": "eab3cd85-5e96-4228-8834-9ef53b93689a",
      "metadata": {
        "id": "eab3cd85-5e96-4228-8834-9ef53b93689a"
      },
      "source": [
        "### Группировка данных\n",
        "Pandas также позволяет группировать данные и выполнять агрегирующие операции."
      ]
    },
    {
      "cell_type": "code",
      "execution_count": 15,
      "id": "25ced901-0482-49a8-8c12-d192e84e3fb3",
      "metadata": {
        "tags": [],
        "colab": {
          "base_uri": "https://localhost:8080/"
        },
        "id": "25ced901-0482-49a8-8c12-d192e84e3fb3",
        "outputId": "fa6880d3-c129-4362-f34d-71e5f08dfd2e"
      },
      "outputs": [
        {
          "output_type": "stream",
          "name": "stdout",
          "text": [
            "Pclass\n",
            "1    0.629630\n",
            "2    0.472826\n",
            "3    0.242363\n",
            "Name: Survived, dtype: float64\n"
          ]
        }
      ],
      "source": [
        "survival_rate_by_class = df.groupby('Pclass')['Survived'].mean()\n",
        "\n",
        "print(survival_rate_by_class)"
      ]
    },
    {
      "cell_type": "markdown",
      "id": "d0355db7-7bf9-46d1-ad51-5f2eddc42501",
      "metadata": {
        "id": "d0355db7-7bf9-46d1-ad51-5f2eddc42501"
      },
      "source": [
        "## Часть 4: Задания для практики\n",
        "Прочитайте данные из файла 'titanic.csv'.\n",
        "Проверьте, есть ли пропущенные значения в данных и заполните их нулями.\n",
        "Выведите первые 10 строк данных.\n",
        "Выберите только те строки, где значение в столбце 'Age' больше 30.\n",
        "Отсортируйте данные по столбцу 'Fare' в порядке убывания.\n",
        "Сгруппируйте данные по столбцу 'Pclass' и вычислите средний возраст ('Age') для каждого класса."
      ]
    },
    {
      "cell_type": "code",
      "execution_count": 16,
      "id": "a1b4deaa-cd06-41b3-8084-5c2d3a867811",
      "metadata": {
        "colab": {
          "base_uri": "https://localhost:8080/"
        },
        "id": "a1b4deaa-cd06-41b3-8084-5c2d3a867811",
        "outputId": "b3fa7737-cfaf-44fd-d92d-9d432c146e25"
      },
      "outputs": [
        {
          "output_type": "stream",
          "name": "stdout",
          "text": [
            "Пропущенные значения до заполнения:\n",
            "PassengerId      0\n",
            "Survived         0\n",
            "Pclass           0\n",
            "Name             0\n",
            "Sex              0\n",
            "Age            177\n",
            "SibSp            0\n",
            "Parch            0\n",
            "Ticket           0\n",
            "Fare             0\n",
            "Cabin          687\n",
            "Embarked         2\n",
            "dtype: int64\n",
            "\n",
            "Первые 10 строк после заполнения:\n",
            "   PassengerId  Survived  Pclass  \\\n",
            "0            1         0       3   \n",
            "1            2         1       1   \n",
            "2            3         1       3   \n",
            "3            4         1       1   \n",
            "4            5         0       3   \n",
            "5            6         0       3   \n",
            "6            7         0       1   \n",
            "7            8         0       3   \n",
            "8            9         1       3   \n",
            "9           10         1       2   \n",
            "\n",
            "                                                Name     Sex   Age  SibSp  \\\n",
            "0                            Braund, Mr. Owen Harris    male  22.0      1   \n",
            "1  Cumings, Mrs. John Bradley (Florence Briggs Th...  female  38.0      1   \n",
            "2                             Heikkinen, Miss. Laina  female  26.0      0   \n",
            "3       Futrelle, Mrs. Jacques Heath (Lily May Peel)  female  35.0      1   \n",
            "4                           Allen, Mr. William Henry    male  35.0      0   \n",
            "5                                   Moran, Mr. James    male   0.0      0   \n",
            "6                            McCarthy, Mr. Timothy J    male  54.0      0   \n",
            "7                     Palsson, Master. Gosta Leonard    male   2.0      3   \n",
            "8  Johnson, Mrs. Oscar W (Elisabeth Vilhelmina Berg)  female  27.0      0   \n",
            "9                Nasser, Mrs. Nicholas (Adele Achem)  female  14.0      1   \n",
            "\n",
            "   Parch            Ticket     Fare Cabin Embarked  \n",
            "0      0         A/5 21171   7.2500     0        S  \n",
            "1      0          PC 17599  71.2833   C85        C  \n",
            "2      0  STON/O2. 3101282   7.9250     0        S  \n",
            "3      0            113803  53.1000  C123        S  \n",
            "4      0            373450   8.0500     0        S  \n",
            "5      0            330877   8.4583     0        Q  \n",
            "6      0             17463  51.8625   E46        S  \n",
            "7      1            349909  21.0750     0        S  \n",
            "8      2            347742  11.1333     0        S  \n",
            "9      0            237736  30.0708     0        C  \n",
            "\n",
            "Средний возраст (Age) для каждого класса (Pclass):\n",
            "Pclass\n",
            "1    46.196000\n",
            "2    41.694805\n",
            "3    39.883495\n",
            "Name: Age, dtype: float64\n"
          ]
        }
      ],
      "source": [
        "df = pd.read_csv('titanic.csv')\n",
        "\n",
        "print(\"Пропущенные значения до заполнения:\")\n",
        "print(df.isna().sum())\n",
        "\n",
        "df = df.fillna(0)\n",
        "\n",
        "print(\"\\nПервые 10 строк после заполнения:\")\n",
        "print(df.head(10))\n",
        "\n",
        "df_age_over_30 = df[df['Age'] > 30]\n",
        "\n",
        "df_sorted = df_age_over_30.sort_values(by='Fare', ascending=False)\n",
        "\n",
        "average_age_by_class = df_sorted.groupby('Pclass')['Age'].mean()\n",
        "\n",
        "print(\"\\nСредний возраст (Age) для каждого класса (Pclass):\")\n",
        "print(average_age_by_class)"
      ]
    }
  ],
  "metadata": {
    "kernelspec": {
      "display_name": "Python 3 (ipykernel)",
      "language": "python",
      "name": "python3"
    },
    "language_info": {
      "codemirror_mode": {
        "name": "ipython",
        "version": 3
      },
      "file_extension": ".py",
      "mimetype": "text/x-python",
      "name": "python",
      "nbconvert_exporter": "python",
      "pygments_lexer": "ipython3",
      "version": "3.11.5"
    },
    "colab": {
      "provenance": []
    }
  },
  "nbformat": 4,
  "nbformat_minor": 5
}