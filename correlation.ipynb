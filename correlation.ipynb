{
  "cells": [
    {
      "cell_type": "markdown",
      "metadata": {
        "id": "d0CPrZ0-t2XU"
      },
      "source": [
        "# Лабораторная работа - Корреляционный анализ в Python\n"
      ]
    },
    {
      "cell_type": "markdown",
      "metadata": {
        "id": "TEbFktkXt2XV"
      },
      "source": [
        "### Цели\n",
        "\n",
        "* Часть 1: Набор данных\n",
        "* Часть 2: Диаграммы рассеяния и корреляционные переменные\n",
        "* Часть 3: Расчёт корреляции с Python\n",
        "* Часть 4: Визуализация"
      ]
    },
    {
      "cell_type": "markdown",
      "metadata": {
        "id": "tlvxnicpt2XW"
      },
      "source": [
        "### История / Cценарий\n",
        "\n",
        "Корреляция является важной статистической зависимостью, которая может указывать, связаны ли линейные значения переменных.\n",
        "\n",
        "В этой лабораторной работе вы узнаете, как использовать Python для расчета корреляции. В Части 1 Вы подготовите набор данных. В Части 2 Вы узнаете, как определить, являются ли переменные в данном наборе данных взаимозависимыми. Наконец, в Части 3, Вы будете использовать Python для вычисления корреляции между двумя наборами переменных."
      ]
    },
    {
      "cell_type": "markdown",
      "metadata": {
        "id": "TfWWjN9Vt2XW"
      },
      "source": [
        "### Необходимо:\n",
        "* Библиотеки Python: pandas, numpy, matplotlib, seaborn\n",
        "* Файл данных: brainsize.txt"
      ]
    },
    {
      "cell_type": "markdown",
      "metadata": {
        "id": "ADg-10jut2XW"
      },
      "source": [
        "## Часть 1: Набор данных"
      ]
    },
    {
      "cell_type": "markdown",
      "metadata": {
        "id": "MoLGk02Ft2XW"
      },
      "source": [
        "Вы будете использовать набор данных, который содержит выборку 40 студентов правшей с вводного курса по Психологии из университета Southwestern. Испытуемые прошли четыре субтеста (Vocabulary, Similarities, Block Design, и Picture Completion) для расчёта шкалы интеллекта взрослых по Векслеру. Исследователи использовали магнитно-резонансную томографию (МРТ) для определения размера мозга у субъектов. Также включены сведения о гендерных показателях и размере тела (рост и вес). Исследователи скрыли вес двух испытуемых и высоту одного из них по причинам конфиденциальности.\n",
        "Для набора данных были применены две простые модификации:\n",
        "\n",
        "1. Заменены вопросительные знаки, используемые для представления скрытых данных, описанных выше, строкой «NaN». Замена была выполнена, потому что Pandas не обрабатывает вопросительные знаки правильно.\n",
        "\n",
        "2. Заменены все символы табуляции запятыми, преобразуя набор данных в набор данных CSV.\n",
        "\n",
        "Готовый набор данных сохранён как `brainsize.txt`."
      ]
    },
    {
      "cell_type": "markdown",
      "metadata": {
        "id": "fF1hmZFFt2XW"
      },
      "source": [
        "#### Шаг 1: Загрузка набора данных из файла.\n",
        "\n",
        "До того, как набор данных можно использовать, он должен быть загружен в память.\n",
        "\n",
        "В приведенном ниже коде первая строка импортирует модули `pandas` и определяет `pd` как дескриптор, который ссылается на один из модулей.\n",
        "\n",
        "Вторая строка загружает CSV-файл набора данных в переменную с именем `brainFile`.\n",
        "\n",
        "Третья строка использует метод `read_csv()` из библиотеки `pandas`, чтобы преобразовать набор данных CSV, хранящийся в `brainFile` в кадр данных. Затем кадр данных хранится в переменной `brainFrame`.\n",
        "\n",
        "Запустите ячейку ниже, чтобы выполнить описанные функции."
      ]
    },
    {
      "cell_type": "code",
      "execution_count": 2,
      "metadata": {
        "id": "DcHN9YUmt2XW"
      },
      "outputs": [],
      "source": [
        "import pandas as pd\n",
        "brainFrame = pd.read_csv(\"brainsize.txt\", delimiter='\\t')"
      ]
    },
    {
      "cell_type": "markdown",
      "metadata": {
        "id": "AVeY8MzVt2XX"
      },
      "source": [
        "#### Шаг 2. Проверка кадра данных.\n",
        "\n",
        "Чтобы убедиться, что кадр данных правильно загружен и создан, используйте метод `head()`. Метод `head()` отображает первые пять записей в кадре данных."
      ]
    },
    {
      "cell_type": "code",
      "execution_count": 3,
      "metadata": {
        "colab": {
          "base_uri": "https://localhost:8080/",
          "height": 206
        },
        "id": "yelWlQIpt2XX",
        "outputId": "779ab58c-6e54-4717-cdbf-d989d14cde13"
      },
      "outputs": [
        {
          "output_type": "execute_result",
          "data": {
            "text/plain": [
              "   Gender  FSIQ  VIQ  PIQ  Weight  Height  MRI_Count\n",
              "0  Female   133  132  124   118.0    64.5     816932\n",
              "1    Male   140  150  124     NaN    72.5    1001121\n",
              "2    Male   139  123  150   143.0    73.3    1038437\n",
              "3    Male   133  129  128   172.0    68.8     965353\n",
              "4  Female   137  132  134   147.0    65.0     951545"
            ],
            "text/html": [
              "\n",
              "  <div id=\"df-3cba7537-1b08-411e-9f73-a6d06e5bc179\" class=\"colab-df-container\">\n",
              "    <div>\n",
              "<style scoped>\n",
              "    .dataframe tbody tr th:only-of-type {\n",
              "        vertical-align: middle;\n",
              "    }\n",
              "\n",
              "    .dataframe tbody tr th {\n",
              "        vertical-align: top;\n",
              "    }\n",
              "\n",
              "    .dataframe thead th {\n",
              "        text-align: right;\n",
              "    }\n",
              "</style>\n",
              "<table border=\"1\" class=\"dataframe\">\n",
              "  <thead>\n",
              "    <tr style=\"text-align: right;\">\n",
              "      <th></th>\n",
              "      <th>Gender</th>\n",
              "      <th>FSIQ</th>\n",
              "      <th>VIQ</th>\n",
              "      <th>PIQ</th>\n",
              "      <th>Weight</th>\n",
              "      <th>Height</th>\n",
              "      <th>MRI_Count</th>\n",
              "    </tr>\n",
              "  </thead>\n",
              "  <tbody>\n",
              "    <tr>\n",
              "      <th>0</th>\n",
              "      <td>Female</td>\n",
              "      <td>133</td>\n",
              "      <td>132</td>\n",
              "      <td>124</td>\n",
              "      <td>118.0</td>\n",
              "      <td>64.5</td>\n",
              "      <td>816932</td>\n",
              "    </tr>\n",
              "    <tr>\n",
              "      <th>1</th>\n",
              "      <td>Male</td>\n",
              "      <td>140</td>\n",
              "      <td>150</td>\n",
              "      <td>124</td>\n",
              "      <td>NaN</td>\n",
              "      <td>72.5</td>\n",
              "      <td>1001121</td>\n",
              "    </tr>\n",
              "    <tr>\n",
              "      <th>2</th>\n",
              "      <td>Male</td>\n",
              "      <td>139</td>\n",
              "      <td>123</td>\n",
              "      <td>150</td>\n",
              "      <td>143.0</td>\n",
              "      <td>73.3</td>\n",
              "      <td>1038437</td>\n",
              "    </tr>\n",
              "    <tr>\n",
              "      <th>3</th>\n",
              "      <td>Male</td>\n",
              "      <td>133</td>\n",
              "      <td>129</td>\n",
              "      <td>128</td>\n",
              "      <td>172.0</td>\n",
              "      <td>68.8</td>\n",
              "      <td>965353</td>\n",
              "    </tr>\n",
              "    <tr>\n",
              "      <th>4</th>\n",
              "      <td>Female</td>\n",
              "      <td>137</td>\n",
              "      <td>132</td>\n",
              "      <td>134</td>\n",
              "      <td>147.0</td>\n",
              "      <td>65.0</td>\n",
              "      <td>951545</td>\n",
              "    </tr>\n",
              "  </tbody>\n",
              "</table>\n",
              "</div>\n",
              "    <div class=\"colab-df-buttons\">\n",
              "\n",
              "  <div class=\"colab-df-container\">\n",
              "    <button class=\"colab-df-convert\" onclick=\"convertToInteractive('df-3cba7537-1b08-411e-9f73-a6d06e5bc179')\"\n",
              "            title=\"Convert this dataframe to an interactive table.\"\n",
              "            style=\"display:none;\">\n",
              "\n",
              "  <svg xmlns=\"http://www.w3.org/2000/svg\" height=\"24px\" viewBox=\"0 -960 960 960\">\n",
              "    <path d=\"M120-120v-720h720v720H120Zm60-500h600v-160H180v160Zm220 220h160v-160H400v160Zm0 220h160v-160H400v160ZM180-400h160v-160H180v160Zm440 0h160v-160H620v160ZM180-180h160v-160H180v160Zm440 0h160v-160H620v160Z\"/>\n",
              "  </svg>\n",
              "    </button>\n",
              "\n",
              "  <style>\n",
              "    .colab-df-container {\n",
              "      display:flex;\n",
              "      gap: 12px;\n",
              "    }\n",
              "\n",
              "    .colab-df-convert {\n",
              "      background-color: #E8F0FE;\n",
              "      border: none;\n",
              "      border-radius: 50%;\n",
              "      cursor: pointer;\n",
              "      display: none;\n",
              "      fill: #1967D2;\n",
              "      height: 32px;\n",
              "      padding: 0 0 0 0;\n",
              "      width: 32px;\n",
              "    }\n",
              "\n",
              "    .colab-df-convert:hover {\n",
              "      background-color: #E2EBFA;\n",
              "      box-shadow: 0px 1px 2px rgba(60, 64, 67, 0.3), 0px 1px 3px 1px rgba(60, 64, 67, 0.15);\n",
              "      fill: #174EA6;\n",
              "    }\n",
              "\n",
              "    .colab-df-buttons div {\n",
              "      margin-bottom: 4px;\n",
              "    }\n",
              "\n",
              "    [theme=dark] .colab-df-convert {\n",
              "      background-color: #3B4455;\n",
              "      fill: #D2E3FC;\n",
              "    }\n",
              "\n",
              "    [theme=dark] .colab-df-convert:hover {\n",
              "      background-color: #434B5C;\n",
              "      box-shadow: 0px 1px 3px 1px rgba(0, 0, 0, 0.15);\n",
              "      filter: drop-shadow(0px 1px 2px rgba(0, 0, 0, 0.3));\n",
              "      fill: #FFFFFF;\n",
              "    }\n",
              "  </style>\n",
              "\n",
              "    <script>\n",
              "      const buttonEl =\n",
              "        document.querySelector('#df-3cba7537-1b08-411e-9f73-a6d06e5bc179 button.colab-df-convert');\n",
              "      buttonEl.style.display =\n",
              "        google.colab.kernel.accessAllowed ? 'block' : 'none';\n",
              "\n",
              "      async function convertToInteractive(key) {\n",
              "        const element = document.querySelector('#df-3cba7537-1b08-411e-9f73-a6d06e5bc179');\n",
              "        const dataTable =\n",
              "          await google.colab.kernel.invokeFunction('convertToInteractive',\n",
              "                                                    [key], {});\n",
              "        if (!dataTable) return;\n",
              "\n",
              "        const docLinkHtml = 'Like what you see? Visit the ' +\n",
              "          '<a target=\"_blank\" href=https://colab.research.google.com/notebooks/data_table.ipynb>data table notebook</a>'\n",
              "          + ' to learn more about interactive tables.';\n",
              "        element.innerHTML = '';\n",
              "        dataTable['output_type'] = 'display_data';\n",
              "        await google.colab.output.renderOutput(dataTable, element);\n",
              "        const docLink = document.createElement('div');\n",
              "        docLink.innerHTML = docLinkHtml;\n",
              "        element.appendChild(docLink);\n",
              "      }\n",
              "    </script>\n",
              "  </div>\n",
              "\n",
              "\n",
              "<div id=\"df-a9153551-37db-4bbd-8041-4afb485f1662\">\n",
              "  <button class=\"colab-df-quickchart\" onclick=\"quickchart('df-a9153551-37db-4bbd-8041-4afb485f1662')\"\n",
              "            title=\"Suggest charts\"\n",
              "            style=\"display:none;\">\n",
              "\n",
              "<svg xmlns=\"http://www.w3.org/2000/svg\" height=\"24px\"viewBox=\"0 0 24 24\"\n",
              "     width=\"24px\">\n",
              "    <g>\n",
              "        <path d=\"M19 3H5c-1.1 0-2 .9-2 2v14c0 1.1.9 2 2 2h14c1.1 0 2-.9 2-2V5c0-1.1-.9-2-2-2zM9 17H7v-7h2v7zm4 0h-2V7h2v10zm4 0h-2v-4h2v4z\"/>\n",
              "    </g>\n",
              "</svg>\n",
              "  </button>\n",
              "\n",
              "<style>\n",
              "  .colab-df-quickchart {\n",
              "      --bg-color: #E8F0FE;\n",
              "      --fill-color: #1967D2;\n",
              "      --hover-bg-color: #E2EBFA;\n",
              "      --hover-fill-color: #174EA6;\n",
              "      --disabled-fill-color: #AAA;\n",
              "      --disabled-bg-color: #DDD;\n",
              "  }\n",
              "\n",
              "  [theme=dark] .colab-df-quickchart {\n",
              "      --bg-color: #3B4455;\n",
              "      --fill-color: #D2E3FC;\n",
              "      --hover-bg-color: #434B5C;\n",
              "      --hover-fill-color: #FFFFFF;\n",
              "      --disabled-bg-color: #3B4455;\n",
              "      --disabled-fill-color: #666;\n",
              "  }\n",
              "\n",
              "  .colab-df-quickchart {\n",
              "    background-color: var(--bg-color);\n",
              "    border: none;\n",
              "    border-radius: 50%;\n",
              "    cursor: pointer;\n",
              "    display: none;\n",
              "    fill: var(--fill-color);\n",
              "    height: 32px;\n",
              "    padding: 0;\n",
              "    width: 32px;\n",
              "  }\n",
              "\n",
              "  .colab-df-quickchart:hover {\n",
              "    background-color: var(--hover-bg-color);\n",
              "    box-shadow: 0 1px 2px rgba(60, 64, 67, 0.3), 0 1px 3px 1px rgba(60, 64, 67, 0.15);\n",
              "    fill: var(--button-hover-fill-color);\n",
              "  }\n",
              "\n",
              "  .colab-df-quickchart-complete:disabled,\n",
              "  .colab-df-quickchart-complete:disabled:hover {\n",
              "    background-color: var(--disabled-bg-color);\n",
              "    fill: var(--disabled-fill-color);\n",
              "    box-shadow: none;\n",
              "  }\n",
              "\n",
              "  .colab-df-spinner {\n",
              "    border: 2px solid var(--fill-color);\n",
              "    border-color: transparent;\n",
              "    border-bottom-color: var(--fill-color);\n",
              "    animation:\n",
              "      spin 1s steps(1) infinite;\n",
              "  }\n",
              "\n",
              "  @keyframes spin {\n",
              "    0% {\n",
              "      border-color: transparent;\n",
              "      border-bottom-color: var(--fill-color);\n",
              "      border-left-color: var(--fill-color);\n",
              "    }\n",
              "    20% {\n",
              "      border-color: transparent;\n",
              "      border-left-color: var(--fill-color);\n",
              "      border-top-color: var(--fill-color);\n",
              "    }\n",
              "    30% {\n",
              "      border-color: transparent;\n",
              "      border-left-color: var(--fill-color);\n",
              "      border-top-color: var(--fill-color);\n",
              "      border-right-color: var(--fill-color);\n",
              "    }\n",
              "    40% {\n",
              "      border-color: transparent;\n",
              "      border-right-color: var(--fill-color);\n",
              "      border-top-color: var(--fill-color);\n",
              "    }\n",
              "    60% {\n",
              "      border-color: transparent;\n",
              "      border-right-color: var(--fill-color);\n",
              "    }\n",
              "    80% {\n",
              "      border-color: transparent;\n",
              "      border-right-color: var(--fill-color);\n",
              "      border-bottom-color: var(--fill-color);\n",
              "    }\n",
              "    90% {\n",
              "      border-color: transparent;\n",
              "      border-bottom-color: var(--fill-color);\n",
              "    }\n",
              "  }\n",
              "</style>\n",
              "\n",
              "  <script>\n",
              "    async function quickchart(key) {\n",
              "      const quickchartButtonEl =\n",
              "        document.querySelector('#' + key + ' button');\n",
              "      quickchartButtonEl.disabled = true;  // To prevent multiple clicks.\n",
              "      quickchartButtonEl.classList.add('colab-df-spinner');\n",
              "      try {\n",
              "        const charts = await google.colab.kernel.invokeFunction(\n",
              "            'suggestCharts', [key], {});\n",
              "      } catch (error) {\n",
              "        console.error('Error during call to suggestCharts:', error);\n",
              "      }\n",
              "      quickchartButtonEl.classList.remove('colab-df-spinner');\n",
              "      quickchartButtonEl.classList.add('colab-df-quickchart-complete');\n",
              "    }\n",
              "    (() => {\n",
              "      let quickchartButtonEl =\n",
              "        document.querySelector('#df-a9153551-37db-4bbd-8041-4afb485f1662 button');\n",
              "      quickchartButtonEl.style.display =\n",
              "        google.colab.kernel.accessAllowed ? 'block' : 'none';\n",
              "    })();\n",
              "  </script>\n",
              "</div>\n",
              "\n",
              "    </div>\n",
              "  </div>\n"
            ],
            "application/vnd.google.colaboratory.intrinsic+json": {
              "type": "dataframe",
              "variable_name": "brainFrame",
              "summary": "{\n  \"name\": \"brainFrame\",\n  \"rows\": 40,\n  \"fields\": [\n    {\n      \"column\": \"Gender\",\n      \"properties\": {\n        \"dtype\": \"category\",\n        \"num_unique_values\": 2,\n        \"samples\": [\n          \"Male\",\n          \"Female\"\n        ],\n        \"semantic_type\": \"\",\n        \"description\": \"\"\n      }\n    },\n    {\n      \"column\": \"FSIQ\",\n      \"properties\": {\n        \"dtype\": \"number\",\n        \"std\": 24,\n        \"min\": 77,\n        \"max\": 144,\n        \"num_unique_values\": 26,\n        \"samples\": [\n          132,\n          97\n        ],\n        \"semantic_type\": \"\",\n        \"description\": \"\"\n      }\n    },\n    {\n      \"column\": \"VIQ\",\n      \"properties\": {\n        \"dtype\": \"number\",\n        \"std\": 23,\n        \"min\": 71,\n        \"max\": 150,\n        \"num_unique_values\": 20,\n        \"samples\": [\n          132,\n          86\n        ],\n        \"semantic_type\": \"\",\n        \"description\": \"\"\n      }\n    },\n    {\n      \"column\": \"PIQ\",\n      \"properties\": {\n        \"dtype\": \"number\",\n        \"std\": 22,\n        \"min\": 72,\n        \"max\": 150,\n        \"num_unique_values\": 21,\n        \"samples\": [\n          124,\n          81\n        ],\n        \"semantic_type\": \"\",\n        \"description\": \"\"\n      }\n    },\n    {\n      \"column\": \"Weight\",\n      \"properties\": {\n        \"dtype\": \"number\",\n        \"std\": 23.478509286005146,\n        \"min\": 106.0,\n        \"max\": 192.0,\n        \"num_unique_values\": 32,\n        \"samples\": [\n          139.0,\n          186.0\n        ],\n        \"semantic_type\": \"\",\n        \"description\": \"\"\n      }\n    },\n    {\n      \"column\": \"Height\",\n      \"properties\": {\n        \"dtype\": \"number\",\n        \"std\": 3.99464891736551,\n        \"min\": 62.0,\n        \"max\": 77.0,\n        \"num_unique_values\": 23,\n        \"samples\": [\n          63.0,\n          70.5\n        ],\n        \"semantic_type\": \"\",\n        \"description\": \"\"\n      }\n    },\n    {\n      \"column\": \"MRI_Count\",\n      \"properties\": {\n        \"dtype\": \"number\",\n        \"std\": 72282,\n        \"min\": 790619,\n        \"max\": 1079549,\n        \"num_unique_values\": 40,\n        \"samples\": [\n          889083,\n          852244\n        ],\n        \"semantic_type\": \"\",\n        \"description\": \"\"\n      }\n    }\n  ]\n}"
            }
          },
          "metadata": {},
          "execution_count": 3
        }
      ],
      "source": [
        "brainFrame.head()"
      ]
    },
    {
      "cell_type": "markdown",
      "metadata": {
        "id": "WsCBS8kit2XX"
      },
      "source": [
        "Метод head() принимает параметр - число строк, отобразите первые 10 строк таблицы"
      ]
    },
    {
      "cell_type": "code",
      "execution_count": 4,
      "metadata": {
        "colab": {
          "base_uri": "https://localhost:8080/",
          "height": 363
        },
        "id": "Y9_A4yK3t2XX",
        "outputId": "33c81d3d-a31c-4218-dd4a-b960f7f446e0"
      },
      "outputs": [
        {
          "output_type": "execute_result",
          "data": {
            "text/plain": [
              "   Gender  FSIQ  VIQ  PIQ  Weight  Height  MRI_Count\n",
              "0  Female   133  132  124   118.0    64.5     816932\n",
              "1    Male   140  150  124     NaN    72.5    1001121\n",
              "2    Male   139  123  150   143.0    73.3    1038437\n",
              "3    Male   133  129  128   172.0    68.8     965353\n",
              "4  Female   137  132  134   147.0    65.0     951545\n",
              "5  Female    99   90  110   146.0    69.0     928799\n",
              "6  Female   138  136  131   138.0    64.5     991305\n",
              "7  Female    92   90   98   175.0    66.0     854258\n",
              "8    Male    89   93   84   134.0    66.3     904858\n",
              "9    Male   133  114  147   172.0    68.8     955466"
            ],
            "text/html": [
              "\n",
              "  <div id=\"df-9de98f19-fed2-43f6-8536-ef46316ae23d\" class=\"colab-df-container\">\n",
              "    <div>\n",
              "<style scoped>\n",
              "    .dataframe tbody tr th:only-of-type {\n",
              "        vertical-align: middle;\n",
              "    }\n",
              "\n",
              "    .dataframe tbody tr th {\n",
              "        vertical-align: top;\n",
              "    }\n",
              "\n",
              "    .dataframe thead th {\n",
              "        text-align: right;\n",
              "    }\n",
              "</style>\n",
              "<table border=\"1\" class=\"dataframe\">\n",
              "  <thead>\n",
              "    <tr style=\"text-align: right;\">\n",
              "      <th></th>\n",
              "      <th>Gender</th>\n",
              "      <th>FSIQ</th>\n",
              "      <th>VIQ</th>\n",
              "      <th>PIQ</th>\n",
              "      <th>Weight</th>\n",
              "      <th>Height</th>\n",
              "      <th>MRI_Count</th>\n",
              "    </tr>\n",
              "  </thead>\n",
              "  <tbody>\n",
              "    <tr>\n",
              "      <th>0</th>\n",
              "      <td>Female</td>\n",
              "      <td>133</td>\n",
              "      <td>132</td>\n",
              "      <td>124</td>\n",
              "      <td>118.0</td>\n",
              "      <td>64.5</td>\n",
              "      <td>816932</td>\n",
              "    </tr>\n",
              "    <tr>\n",
              "      <th>1</th>\n",
              "      <td>Male</td>\n",
              "      <td>140</td>\n",
              "      <td>150</td>\n",
              "      <td>124</td>\n",
              "      <td>NaN</td>\n",
              "      <td>72.5</td>\n",
              "      <td>1001121</td>\n",
              "    </tr>\n",
              "    <tr>\n",
              "      <th>2</th>\n",
              "      <td>Male</td>\n",
              "      <td>139</td>\n",
              "      <td>123</td>\n",
              "      <td>150</td>\n",
              "      <td>143.0</td>\n",
              "      <td>73.3</td>\n",
              "      <td>1038437</td>\n",
              "    </tr>\n",
              "    <tr>\n",
              "      <th>3</th>\n",
              "      <td>Male</td>\n",
              "      <td>133</td>\n",
              "      <td>129</td>\n",
              "      <td>128</td>\n",
              "      <td>172.0</td>\n",
              "      <td>68.8</td>\n",
              "      <td>965353</td>\n",
              "    </tr>\n",
              "    <tr>\n",
              "      <th>4</th>\n",
              "      <td>Female</td>\n",
              "      <td>137</td>\n",
              "      <td>132</td>\n",
              "      <td>134</td>\n",
              "      <td>147.0</td>\n",
              "      <td>65.0</td>\n",
              "      <td>951545</td>\n",
              "    </tr>\n",
              "    <tr>\n",
              "      <th>5</th>\n",
              "      <td>Female</td>\n",
              "      <td>99</td>\n",
              "      <td>90</td>\n",
              "      <td>110</td>\n",
              "      <td>146.0</td>\n",
              "      <td>69.0</td>\n",
              "      <td>928799</td>\n",
              "    </tr>\n",
              "    <tr>\n",
              "      <th>6</th>\n",
              "      <td>Female</td>\n",
              "      <td>138</td>\n",
              "      <td>136</td>\n",
              "      <td>131</td>\n",
              "      <td>138.0</td>\n",
              "      <td>64.5</td>\n",
              "      <td>991305</td>\n",
              "    </tr>\n",
              "    <tr>\n",
              "      <th>7</th>\n",
              "      <td>Female</td>\n",
              "      <td>92</td>\n",
              "      <td>90</td>\n",
              "      <td>98</td>\n",
              "      <td>175.0</td>\n",
              "      <td>66.0</td>\n",
              "      <td>854258</td>\n",
              "    </tr>\n",
              "    <tr>\n",
              "      <th>8</th>\n",
              "      <td>Male</td>\n",
              "      <td>89</td>\n",
              "      <td>93</td>\n",
              "      <td>84</td>\n",
              "      <td>134.0</td>\n",
              "      <td>66.3</td>\n",
              "      <td>904858</td>\n",
              "    </tr>\n",
              "    <tr>\n",
              "      <th>9</th>\n",
              "      <td>Male</td>\n",
              "      <td>133</td>\n",
              "      <td>114</td>\n",
              "      <td>147</td>\n",
              "      <td>172.0</td>\n",
              "      <td>68.8</td>\n",
              "      <td>955466</td>\n",
              "    </tr>\n",
              "  </tbody>\n",
              "</table>\n",
              "</div>\n",
              "    <div class=\"colab-df-buttons\">\n",
              "\n",
              "  <div class=\"colab-df-container\">\n",
              "    <button class=\"colab-df-convert\" onclick=\"convertToInteractive('df-9de98f19-fed2-43f6-8536-ef46316ae23d')\"\n",
              "            title=\"Convert this dataframe to an interactive table.\"\n",
              "            style=\"display:none;\">\n",
              "\n",
              "  <svg xmlns=\"http://www.w3.org/2000/svg\" height=\"24px\" viewBox=\"0 -960 960 960\">\n",
              "    <path d=\"M120-120v-720h720v720H120Zm60-500h600v-160H180v160Zm220 220h160v-160H400v160Zm0 220h160v-160H400v160ZM180-400h160v-160H180v160Zm440 0h160v-160H620v160ZM180-180h160v-160H180v160Zm440 0h160v-160H620v160Z\"/>\n",
              "  </svg>\n",
              "    </button>\n",
              "\n",
              "  <style>\n",
              "    .colab-df-container {\n",
              "      display:flex;\n",
              "      gap: 12px;\n",
              "    }\n",
              "\n",
              "    .colab-df-convert {\n",
              "      background-color: #E8F0FE;\n",
              "      border: none;\n",
              "      border-radius: 50%;\n",
              "      cursor: pointer;\n",
              "      display: none;\n",
              "      fill: #1967D2;\n",
              "      height: 32px;\n",
              "      padding: 0 0 0 0;\n",
              "      width: 32px;\n",
              "    }\n",
              "\n",
              "    .colab-df-convert:hover {\n",
              "      background-color: #E2EBFA;\n",
              "      box-shadow: 0px 1px 2px rgba(60, 64, 67, 0.3), 0px 1px 3px 1px rgba(60, 64, 67, 0.15);\n",
              "      fill: #174EA6;\n",
              "    }\n",
              "\n",
              "    .colab-df-buttons div {\n",
              "      margin-bottom: 4px;\n",
              "    }\n",
              "\n",
              "    [theme=dark] .colab-df-convert {\n",
              "      background-color: #3B4455;\n",
              "      fill: #D2E3FC;\n",
              "    }\n",
              "\n",
              "    [theme=dark] .colab-df-convert:hover {\n",
              "      background-color: #434B5C;\n",
              "      box-shadow: 0px 1px 3px 1px rgba(0, 0, 0, 0.15);\n",
              "      filter: drop-shadow(0px 1px 2px rgba(0, 0, 0, 0.3));\n",
              "      fill: #FFFFFF;\n",
              "    }\n",
              "  </style>\n",
              "\n",
              "    <script>\n",
              "      const buttonEl =\n",
              "        document.querySelector('#df-9de98f19-fed2-43f6-8536-ef46316ae23d button.colab-df-convert');\n",
              "      buttonEl.style.display =\n",
              "        google.colab.kernel.accessAllowed ? 'block' : 'none';\n",
              "\n",
              "      async function convertToInteractive(key) {\n",
              "        const element = document.querySelector('#df-9de98f19-fed2-43f6-8536-ef46316ae23d');\n",
              "        const dataTable =\n",
              "          await google.colab.kernel.invokeFunction('convertToInteractive',\n",
              "                                                    [key], {});\n",
              "        if (!dataTable) return;\n",
              "\n",
              "        const docLinkHtml = 'Like what you see? Visit the ' +\n",
              "          '<a target=\"_blank\" href=https://colab.research.google.com/notebooks/data_table.ipynb>data table notebook</a>'\n",
              "          + ' to learn more about interactive tables.';\n",
              "        element.innerHTML = '';\n",
              "        dataTable['output_type'] = 'display_data';\n",
              "        await google.colab.output.renderOutput(dataTable, element);\n",
              "        const docLink = document.createElement('div');\n",
              "        docLink.innerHTML = docLinkHtml;\n",
              "        element.appendChild(docLink);\n",
              "      }\n",
              "    </script>\n",
              "  </div>\n",
              "\n",
              "\n",
              "<div id=\"df-3834b7be-3791-4e00-a40a-d360464fc1fc\">\n",
              "  <button class=\"colab-df-quickchart\" onclick=\"quickchart('df-3834b7be-3791-4e00-a40a-d360464fc1fc')\"\n",
              "            title=\"Suggest charts\"\n",
              "            style=\"display:none;\">\n",
              "\n",
              "<svg xmlns=\"http://www.w3.org/2000/svg\" height=\"24px\"viewBox=\"0 0 24 24\"\n",
              "     width=\"24px\">\n",
              "    <g>\n",
              "        <path d=\"M19 3H5c-1.1 0-2 .9-2 2v14c0 1.1.9 2 2 2h14c1.1 0 2-.9 2-2V5c0-1.1-.9-2-2-2zM9 17H7v-7h2v7zm4 0h-2V7h2v10zm4 0h-2v-4h2v4z\"/>\n",
              "    </g>\n",
              "</svg>\n",
              "  </button>\n",
              "\n",
              "<style>\n",
              "  .colab-df-quickchart {\n",
              "      --bg-color: #E8F0FE;\n",
              "      --fill-color: #1967D2;\n",
              "      --hover-bg-color: #E2EBFA;\n",
              "      --hover-fill-color: #174EA6;\n",
              "      --disabled-fill-color: #AAA;\n",
              "      --disabled-bg-color: #DDD;\n",
              "  }\n",
              "\n",
              "  [theme=dark] .colab-df-quickchart {\n",
              "      --bg-color: #3B4455;\n",
              "      --fill-color: #D2E3FC;\n",
              "      --hover-bg-color: #434B5C;\n",
              "      --hover-fill-color: #FFFFFF;\n",
              "      --disabled-bg-color: #3B4455;\n",
              "      --disabled-fill-color: #666;\n",
              "  }\n",
              "\n",
              "  .colab-df-quickchart {\n",
              "    background-color: var(--bg-color);\n",
              "    border: none;\n",
              "    border-radius: 50%;\n",
              "    cursor: pointer;\n",
              "    display: none;\n",
              "    fill: var(--fill-color);\n",
              "    height: 32px;\n",
              "    padding: 0;\n",
              "    width: 32px;\n",
              "  }\n",
              "\n",
              "  .colab-df-quickchart:hover {\n",
              "    background-color: var(--hover-bg-color);\n",
              "    box-shadow: 0 1px 2px rgba(60, 64, 67, 0.3), 0 1px 3px 1px rgba(60, 64, 67, 0.15);\n",
              "    fill: var(--button-hover-fill-color);\n",
              "  }\n",
              "\n",
              "  .colab-df-quickchart-complete:disabled,\n",
              "  .colab-df-quickchart-complete:disabled:hover {\n",
              "    background-color: var(--disabled-bg-color);\n",
              "    fill: var(--disabled-fill-color);\n",
              "    box-shadow: none;\n",
              "  }\n",
              "\n",
              "  .colab-df-spinner {\n",
              "    border: 2px solid var(--fill-color);\n",
              "    border-color: transparent;\n",
              "    border-bottom-color: var(--fill-color);\n",
              "    animation:\n",
              "      spin 1s steps(1) infinite;\n",
              "  }\n",
              "\n",
              "  @keyframes spin {\n",
              "    0% {\n",
              "      border-color: transparent;\n",
              "      border-bottom-color: var(--fill-color);\n",
              "      border-left-color: var(--fill-color);\n",
              "    }\n",
              "    20% {\n",
              "      border-color: transparent;\n",
              "      border-left-color: var(--fill-color);\n",
              "      border-top-color: var(--fill-color);\n",
              "    }\n",
              "    30% {\n",
              "      border-color: transparent;\n",
              "      border-left-color: var(--fill-color);\n",
              "      border-top-color: var(--fill-color);\n",
              "      border-right-color: var(--fill-color);\n",
              "    }\n",
              "    40% {\n",
              "      border-color: transparent;\n",
              "      border-right-color: var(--fill-color);\n",
              "      border-top-color: var(--fill-color);\n",
              "    }\n",
              "    60% {\n",
              "      border-color: transparent;\n",
              "      border-right-color: var(--fill-color);\n",
              "    }\n",
              "    80% {\n",
              "      border-color: transparent;\n",
              "      border-right-color: var(--fill-color);\n",
              "      border-bottom-color: var(--fill-color);\n",
              "    }\n",
              "    90% {\n",
              "      border-color: transparent;\n",
              "      border-bottom-color: var(--fill-color);\n",
              "    }\n",
              "  }\n",
              "</style>\n",
              "\n",
              "  <script>\n",
              "    async function quickchart(key) {\n",
              "      const quickchartButtonEl =\n",
              "        document.querySelector('#' + key + ' button');\n",
              "      quickchartButtonEl.disabled = true;  // To prevent multiple clicks.\n",
              "      quickchartButtonEl.classList.add('colab-df-spinner');\n",
              "      try {\n",
              "        const charts = await google.colab.kernel.invokeFunction(\n",
              "            'suggestCharts', [key], {});\n",
              "      } catch (error) {\n",
              "        console.error('Error during call to suggestCharts:', error);\n",
              "      }\n",
              "      quickchartButtonEl.classList.remove('colab-df-spinner');\n",
              "      quickchartButtonEl.classList.add('colab-df-quickchart-complete');\n",
              "    }\n",
              "    (() => {\n",
              "      let quickchartButtonEl =\n",
              "        document.querySelector('#df-3834b7be-3791-4e00-a40a-d360464fc1fc button');\n",
              "      quickchartButtonEl.style.display =\n",
              "        google.colab.kernel.accessAllowed ? 'block' : 'none';\n",
              "    })();\n",
              "  </script>\n",
              "</div>\n",
              "\n",
              "    </div>\n",
              "  </div>\n"
            ],
            "application/vnd.google.colaboratory.intrinsic+json": {
              "type": "dataframe",
              "variable_name": "brainFrame",
              "summary": "{\n  \"name\": \"brainFrame\",\n  \"rows\": 40,\n  \"fields\": [\n    {\n      \"column\": \"Gender\",\n      \"properties\": {\n        \"dtype\": \"category\",\n        \"num_unique_values\": 2,\n        \"samples\": [\n          \"Male\",\n          \"Female\"\n        ],\n        \"semantic_type\": \"\",\n        \"description\": \"\"\n      }\n    },\n    {\n      \"column\": \"FSIQ\",\n      \"properties\": {\n        \"dtype\": \"number\",\n        \"std\": 24,\n        \"min\": 77,\n        \"max\": 144,\n        \"num_unique_values\": 26,\n        \"samples\": [\n          132,\n          97\n        ],\n        \"semantic_type\": \"\",\n        \"description\": \"\"\n      }\n    },\n    {\n      \"column\": \"VIQ\",\n      \"properties\": {\n        \"dtype\": \"number\",\n        \"std\": 23,\n        \"min\": 71,\n        \"max\": 150,\n        \"num_unique_values\": 20,\n        \"samples\": [\n          132,\n          86\n        ],\n        \"semantic_type\": \"\",\n        \"description\": \"\"\n      }\n    },\n    {\n      \"column\": \"PIQ\",\n      \"properties\": {\n        \"dtype\": \"number\",\n        \"std\": 22,\n        \"min\": 72,\n        \"max\": 150,\n        \"num_unique_values\": 21,\n        \"samples\": [\n          124,\n          81\n        ],\n        \"semantic_type\": \"\",\n        \"description\": \"\"\n      }\n    },\n    {\n      \"column\": \"Weight\",\n      \"properties\": {\n        \"dtype\": \"number\",\n        \"std\": 23.478509286005146,\n        \"min\": 106.0,\n        \"max\": 192.0,\n        \"num_unique_values\": 32,\n        \"samples\": [\n          139.0,\n          186.0\n        ],\n        \"semantic_type\": \"\",\n        \"description\": \"\"\n      }\n    },\n    {\n      \"column\": \"Height\",\n      \"properties\": {\n        \"dtype\": \"number\",\n        \"std\": 3.99464891736551,\n        \"min\": 62.0,\n        \"max\": 77.0,\n        \"num_unique_values\": 23,\n        \"samples\": [\n          63.0,\n          70.5\n        ],\n        \"semantic_type\": \"\",\n        \"description\": \"\"\n      }\n    },\n    {\n      \"column\": \"MRI_Count\",\n      \"properties\": {\n        \"dtype\": \"number\",\n        \"std\": 72282,\n        \"min\": 790619,\n        \"max\": 1079549,\n        \"num_unique_values\": 40,\n        \"samples\": [\n          889083,\n          852244\n        ],\n        \"semantic_type\": \"\",\n        \"description\": \"\"\n      }\n    }\n  ]\n}"
            }
          },
          "metadata": {},
          "execution_count": 4
        }
      ],
      "source": [
        "brainFrame.head(10)"
      ]
    },
    {
      "cell_type": "markdown",
      "metadata": {
        "id": "Cl9Cfufjt2XX"
      },
      "source": [
        "Также Dataframe имеет метод tail(), который возвращает последние 5 строк кадра данных. Аналогично head() метод tail() принимает аргументом число строк, которые он вернет. Отобразите последние 8 строк таблицы."
      ]
    },
    {
      "cell_type": "code",
      "execution_count": 5,
      "metadata": {
        "colab": {
          "base_uri": "https://localhost:8080/"
        },
        "id": "pj3ZMx-Bt2XX",
        "outputId": "49fd2213-ad3f-4d50-ba00-ed08a4bd6cf7"
      },
      "outputs": [
        {
          "output_type": "stream",
          "name": "stdout",
          "text": [
            "    Gender  FSIQ  VIQ  PIQ  Weight  Height  MRI_Count\n",
            "32    Male   103   96  110   192.0    75.5     997925\n",
            "33    Male    90   96   86   181.0    69.0     879987\n",
            "34  Female    83   90   81   143.0    66.5     834344\n",
            "35  Female   133  129  128   153.0    66.5     948066\n",
            "36    Male   140  150  124   144.0    70.5     949395\n",
            "37  Female    88   86   94   139.0    64.5     893983\n",
            "38    Male    81   90   74   148.0    74.0     930016\n",
            "39    Male    89   91   89   179.0    75.5     935863\n"
          ]
        }
      ],
      "source": [
        "print(brainFrame.tail(8))"
      ]
    },
    {
      "cell_type": "markdown",
      "metadata": {
        "id": "Hxk-U4X4t2XX"
      },
      "source": [
        "## Часть 2: Диаграммы рассеяния и корреляционные переменные"
      ]
    },
    {
      "cell_type": "markdown",
      "metadata": {
        "id": "2iV1n9wft2XX"
      },
      "source": [
        "#### Шаг 1: метод `describe()` в библиотеке pandas.\n",
        "Библиотека pandas включает в себя метод `describe()`, который выполняет одни и те же общие вычисления на предложенном наборе данных. Помимо базовых операций таких, как подсчёт, расчёт среднего значения, расчёт среднеквадратического отклонения, расчёт минимума, и максимума,  `describe()` также отличный способ быстро проверить достоверность значений в кадре данных.<p>\n",
        "Ниже используйте функцию describe, для вывода статистики по данным"
      ]
    },
    {
      "cell_type": "code",
      "execution_count": 6,
      "metadata": {
        "colab": {
          "base_uri": "https://localhost:8080/"
        },
        "id": "D4f-C-3pt2XX",
        "outputId": "d1e4666b-aca2-4876-e012-871916d7c80a"
      },
      "outputs": [
        {
          "output_type": "stream",
          "name": "stdout",
          "text": [
            "             FSIQ         VIQ        PIQ      Weight     Height     MRI_Count\n",
            "count   40.000000   40.000000   40.00000   38.000000  39.000000  4.000000e+01\n",
            "mean   113.450000  112.350000  111.02500  151.052632  68.525641  9.087550e+05\n",
            "std     24.082071   23.616107   22.47105   23.478509   3.994649  7.228205e+04\n",
            "min     77.000000   71.000000   72.00000  106.000000  62.000000  7.906190e+05\n",
            "25%     89.750000   90.000000   88.25000  135.250000  66.000000  8.559185e+05\n",
            "50%    116.500000  113.000000  115.00000  146.500000  68.000000  9.053990e+05\n",
            "75%    135.500000  129.750000  128.00000  172.000000  70.500000  9.500780e+05\n",
            "max    144.000000  150.000000  150.00000  192.000000  77.000000  1.079549e+06\n"
          ]
        }
      ],
      "source": [
        "print(brainFrame.describe())"
      ]
    },
    {
      "cell_type": "markdown",
      "metadata": {
        "id": "JrIHOui5t2XX"
      },
      "source": [
        "#### Шаг 2: Диаграммы рассеяния\n",
        "\n",
        "Диаграммы рассеяния важны при работе с корреляциями, поскольку они позволяют быстро визуально проверить природу связи между переменными. В этой лабораторной работе используется коэффициент корреляции Пирсона, который чувствителен только к линейной зависимости между двумя переменными. Также существуют другие более надежные методы корреляции, но они выходят за рамки этой лабораторной работы.\n",
        "\n",
        "##### a. Загрузите необходимые модули.\n",
        "Прежде чем строить графики, необходимо импортировать несколько модулей, а именно `numpy` и `matplotlib`. Запустите ячейку ниже, чтобы загрузить эти модули."
      ]
    },
    {
      "cell_type": "code",
      "execution_count": null,
      "metadata": {
        "id": "yd_EhpRCt2XX"
      },
      "outputs": [],
      "source": [
        "import numpy as np\n",
        "import matplotlib.pyplot as plt"
      ]
    },
    {
      "cell_type": "markdown",
      "metadata": {
        "id": "tQmk9V0zt2XY"
      },
      "source": [
        "##### b. Разделите данные.\n",
        "Чтобы гарантировать, что результаты не будут искажены из-за различий в мужских и женских телах, кадр данных разбит на два: один содержит все мужские записи, а другой - только женские экземпляры. <p>\n",
        "Создайте два новых кадра данных: menDf и womenDf, каждый из которых содержит соответствующие записи."
      ]
    },
    {
      "cell_type": "code",
      "execution_count": 10,
      "metadata": {
        "colab": {
          "base_uri": "https://localhost:8080/"
        },
        "id": "9d6doAsut2XY",
        "outputId": "b72fa455-f5e4-4429-e35a-0889385c7ca0"
      },
      "outputs": [
        {
          "output_type": "stream",
          "name": "stdout",
          "text": [
            "Мужчины:\n",
            "Empty DataFrame\n",
            "Columns: [Gender, FSIQ, VIQ, PIQ, Weight, Height, MRI_Count]\n",
            "Index: []\n",
            "\n",
            "Женщины:\n",
            "Empty DataFrame\n",
            "Columns: [Gender, FSIQ, VIQ, PIQ, Weight, Height, MRI_Count]\n",
            "Index: []\n"
          ]
        }
      ],
      "source": [
        "menDf = brainFrame[brainFrame['Gender'] == 'male']\n",
        "womenDf = brainFrame[brainFrame['Gender'] == 'female']\n",
        "print(\"Мужчины:\")\n",
        "print(menDf.head())\n",
        "\n",
        "print(\"\\nЖенщины:\")\n",
        "print(womenDf.head())"
      ]
    },
    {
      "cell_type": "markdown",
      "metadata": {
        "id": "Mslio0gGt2XY"
      },
      "source": [
        "##### c. Постройте графики.\n",
        "Поскольку набор данных включает в себя три различных измерения интеллекта (PIQ, FSIQ и VIQ), первая строка ниже использует метод `mean()` из библиотеки Pandas для вычисления среднего значения между тремя измерениями и сохранения результата в переменной `menMeanSmarts`. Обратите внимание, что первая строка относится к menDf, отфильтрованному кадру данных, содержащему только мужские записи.<p>\n",
        "Вторая строка использует метод `scatter()` библиотеки `matplotlib` для создания графика диаграммы рассеяния между переменной `menMeanSmarts` и атрибутом `MRI_Count`. MRI_Count в этом наборе данных можно рассматривать как меру физического размера мозга испытуемых.<p>\n",
        "Третья строка просто отображает график.<p>\n",
        "Четвертая строка используется для гарантированного отображения графика в этом блокноте."
      ]
    },
    {
      "cell_type": "code",
      "execution_count": 16,
      "metadata": {
        "colab": {
          "base_uri": "https://localhost:8080/",
          "height": 472
        },
        "id": "4KCZvRUvt2XY",
        "outputId": "00410fc7-8e91-47b2-b79d-aac7e5dff443"
      },
      "outputs": [
        {
          "output_type": "display_data",
          "data": {
            "text/plain": [
              "<Figure size 640x480 with 1 Axes>"
            ],
            "image/png": "[encoded data removed]"
          },
          "metadata": {}
        }
      ],
      "source": [
        "menDf = brainFrame[brainFrame['Gender'] == 'Male']\n",
        "menMeanSmarts = menDf[['PIQ', 'FSIQ', 'VIQ']].mean(axis=1)\n",
        "plt.scatter(menMeanSmarts, menDf['MRI_Count'])\n",
        "plt.xlabel('Средний интеллект (VIQ, FSIQ, PIQ)')\n",
        "plt.ylabel('Объем мозга (MRI_Count)')\n",
        "plt.title('Интеллект и размер мозга у мужчин')\n",
        "plt.show()"
      ]
    },
    {
      "cell_type": "markdown",
      "metadata": {
        "id": "zBiW4c_nt2XY"
      },
      "source": [
        "Аналогичным образом создайте график диаграммы рассеяния для кадра данных, содержащему только женские записи."
      ]
    },
    {
      "cell_type": "code",
      "execution_count": 17,
      "metadata": {
        "scrolled": true,
        "colab": {
          "base_uri": "https://localhost:8080/",
          "height": 472
        },
        "id": "XmyMEs1et2XY",
        "outputId": "92f39d85-0cfe-47b3-a8f8-d72f501f40c5"
      },
      "outputs": [
        {
          "output_type": "display_data",
          "data": {
            "text/plain": [
              "<Figure size 640x480 with 1 Axes>"
            ],
            "image/png": "[encoded data removed]"
          },
          "metadata": {}
        }
      ],
      "source": [
        "womenDf = brainFrame[brainFrame['Gender'] == 'Female']\n",
        "womenMeanSmarts = womenDf[['PIQ', 'FSIQ', 'VIQ']].mean(axis=1)\n",
        "plt.scatter(womenMeanSmarts, womenDf['MRI_Count'], color='magenta')\n",
        "plt.xlabel('Средний интеллект (VIQ, FSIQ, PIQ)')\n",
        "plt.ylabel('Объем мозга (MRI_Count)')\n",
        "plt.title('Интеллект и размер мозга у женщин')\n",
        "plt.show()"
      ]
    },
    {
      "cell_type": "markdown",
      "metadata": {
        "id": "Z4juzeqst2XY"
      },
      "source": [
        "## Часть 3: Вычисление корреляции с Python\n"
      ]
    },
    {
      "cell_type": "markdown",
      "metadata": {
        "id": "RKL13_59t2XY"
      },
      "source": [
        "#### Шаг 1: Рассчитайте корреляцию для brainFrame.\n",
        "Метод `corr()` библиотеки pandas обеспечивает простой способ вычисления корреляции для кадра данных. Просто применяя метод на кадре данных, можно получить корреляцию между всеми переменными одновременно."
      ]
    },
    {
      "cell_type": "code",
      "execution_count": 19,
      "metadata": {
        "colab": {
          "base_uri": "https://localhost:8080/"
        },
        "id": "m-O0Lfszt2XY",
        "outputId": "d26910aa-141d-4161-a5ad-cf9f3239b339"
      },
      "outputs": [
        {
          "output_type": "stream",
          "name": "stdout",
          "text": [
            "               FSIQ       VIQ       PIQ    Weight    Height  MRI_Count\n",
            "FSIQ       1.000000  0.946639  0.934125 -0.051483 -0.086002   0.357641\n",
            "VIQ        0.946639  1.000000  0.778135 -0.076088 -0.071068   0.337478\n",
            "PIQ        0.934125  0.778135  1.000000  0.002512 -0.076723   0.386817\n",
            "Weight    -0.051483 -0.076088  0.002512  1.000000  0.699614   0.513378\n",
            "Height    -0.086002 -0.071068 -0.076723  0.699614  1.000000   0.601712\n",
            "MRI_Count  0.357641  0.337478  0.386817  0.513378  0.601712   1.000000\n"
          ]
        }
      ],
      "source": [
        "correlation_matrix = brainFrame.corr(numeric_only=True)\n",
        "print(correlation_matrix)"
      ]
    },
    {
      "cell_type": "markdown",
      "metadata": {
        "id": "KYO5Ix8ht2XY"
      },
      "source": [
        "Обратите внимание на диагональ слева направо в таблице корреляции, сгенерированной выше. Почему диагональ заполнена значениями 1? Это совпадение? Объясните."
      ]
    },
    {
      "cell_type": "markdown",
      "metadata": {
        "id": "kauUdODdt2XY"
      },
      "source": [
        "математическое свойство: корреляция переменной с собой всегда равна 1."
      ]
    },
    {
      "cell_type": "markdown",
      "metadata": {
        "id": "oKJodsQUt2XY"
      },
      "source": [
        "Продолжая смотреть на таблицу корреляции выше, обратите внимание, что значения зеркалируются; значения под диагональю имеют зеркальный аналог над ней. Это совпадение? Объясните."
      ]
    },
    {
      "cell_type": "markdown",
      "metadata": {
        "id": "PJ9uRstLt2XY"
      },
      "source": [
        "свойство симметричности матрицы корреляции"
      ]
    },
    {
      "cell_type": "markdown",
      "metadata": {
        "id": "PToe8mPwt2XY"
      },
      "source": [
        "Используя тот же метод `corr()`, вычислите корреляцию переменных, содержащихся в кадре с женскими записями:"
      ]
    },
    {
      "cell_type": "code",
      "execution_count": 20,
      "metadata": {
        "colab": {
          "base_uri": "https://localhost:8080/"
        },
        "id": "Ni-adfLHt2XZ",
        "outputId": "f4eb13dc-ba0c-4958-e517-f6e15e58f23a"
      },
      "outputs": [
        {
          "output_type": "stream",
          "name": "stdout",
          "text": [
            "               FSIQ       VIQ       PIQ    Weight    Height  MRI_Count\n",
            "FSIQ       1.000000  0.955717  0.939382  0.038192 -0.059011   0.325697\n",
            "VIQ        0.955717  1.000000  0.802652 -0.021889 -0.146453   0.254933\n",
            "PIQ        0.939382  0.802652  1.000000  0.113901 -0.001242   0.396157\n",
            "Weight     0.038192 -0.021889  0.113901  1.000000  0.552357   0.446271\n",
            "Height    -0.059011 -0.146453 -0.001242  0.552357  1.000000   0.174541\n",
            "MRI_Count  0.325697  0.254933  0.396157  0.446271  0.174541   1.000000\n"
          ]
        }
      ],
      "source": [
        "womenDf = brainFrame[brainFrame['Gender'] == 'Female']\n",
        "women_correlation = womenDf.corr(numeric_only=True)\n",
        "print(women_correlation)"
      ]
    },
    {
      "cell_type": "markdown",
      "metadata": {
        "id": "r2vrNgZyt2XZ"
      },
      "source": [
        "И то же самое можно сделать для переменных, содержащихся в кадре с мужскими записями:"
      ]
    },
    {
      "cell_type": "code",
      "execution_count": 21,
      "metadata": {
        "colab": {
          "base_uri": "https://localhost:8080/"
        },
        "id": "JBq8QT8Ct2XZ",
        "outputId": "1b832932-ba93-462f-ce61-c20caa48635d"
      },
      "outputs": [
        {
          "output_type": "stream",
          "name": "stdout",
          "text": [
            "               FSIQ       VIQ       PIQ    Weight    Height  MRI_Count\n",
            "FSIQ       1.000000  0.944400  0.930694 -0.278140 -0.356110   0.498369\n",
            "VIQ        0.944400  1.000000  0.766021 -0.350453 -0.355588   0.413105\n",
            "PIQ        0.930694  0.766021  1.000000 -0.156863 -0.287676   0.568237\n",
            "Weight    -0.278140 -0.350453 -0.156863  1.000000  0.406542  -0.076875\n",
            "Height    -0.356110 -0.355588 -0.287676  0.406542  1.000000   0.301543\n",
            "MRI_Count  0.498369  0.413105  0.568237 -0.076875  0.301543   1.000000\n"
          ]
        }
      ],
      "source": [
        "menDf = brainFrame[brainFrame['Gender'] == 'Male']\n",
        "men_correlation = menDf.corr(numeric_only=True)\n",
        "print(men_correlation)"
      ]
    },
    {
      "cell_type": "markdown",
      "metadata": {
        "id": "76DbDMZbt2XZ"
      },
      "source": [
        "## Часть 4: Визуализация"
      ]
    },
    {
      "cell_type": "markdown",
      "metadata": {
        "id": "_6vDSRLwt2XZ"
      },
      "source": [
        "#### Шаг 1: Установите Seaborn.\n",
        "Чтобы упростить визуализацию корреляций данных, можно использовать тепловую карту. На основе цветных квадратов тепловая карта может помочь выявить корреляции с первого взгляда.\n",
        "\n",
        "Модуль Python с именем `seaborn` очень упрощает построение тепловых карт.\n",
        "\n",
        "Сначала запустите ячейку ниже, чтобы загрузить и установить модуль `seaborn`. (закомментируйте, если библиотека установлена)"
      ]
    },
    {
      "cell_type": "code",
      "execution_count": 22,
      "metadata": {
        "colab": {
          "base_uri": "https://localhost:8080/"
        },
        "id": "sIWm1rtct2XZ",
        "outputId": "8d4258c8-8316-460b-d21d-6f898d474013"
      },
      "outputs": [
        {
          "output_type": "stream",
          "name": "stdout",
          "text": [
            "Requirement already satisfied: seaborn in /usr/local/lib/python3.11/dist-packages (0.13.2)\n",
            "Requirement already satisfied: numpy!=1.24.0,>=1.20 in /usr/local/lib/python3.11/dist-packages (from seaborn) (2.0.2)\n",
            "Requirement already satisfied: pandas>=1.2 in /usr/local/lib/python3.11/dist-packages (from seaborn) (2.2.2)\n",
            "Requirement already satisfied: matplotlib!=3.6.1,>=3.4 in /usr/local/lib/python3.11/dist-packages (from seaborn) (3.10.0)\n",
            "Requirement already satisfied: contourpy>=1.0.1 in /usr/local/lib/python3.11/dist-packages (from matplotlib!=3.6.1,>=3.4->seaborn) (1.3.1)\n",
            "Requirement already satisfied: cycler>=0.10 in /usr/local/lib/python3.11/dist-packages (from matplotlib!=3.6.1,>=3.4->seaborn) (0.12.1)\n",
            "Requirement already satisfied: fonttools>=4.22.0 in /usr/local/lib/python3.11/dist-packages (from matplotlib!=3.6.1,>=3.4->seaborn) (4.57.0)\n",
            "Requirement already satisfied: kiwisolver>=1.3.1 in /usr/local/lib/python3.11/dist-packages (from matplotlib!=3.6.1,>=3.4->seaborn) (1.4.8)\n",
            "Requirement already satisfied: packaging>=20.0 in /usr/local/lib/python3.11/dist-packages (from matplotlib!=3.6.1,>=3.4->seaborn) (24.2)\n",
            "Requirement already satisfied: pillow>=8 in /usr/local/lib/python3.11/dist-packages (from matplotlib!=3.6.1,>=3.4->seaborn) (11.1.0)\n",
            "Requirement already satisfied: pyparsing>=2.3.1 in /usr/local/lib/python3.11/dist-packages (from matplotlib!=3.6.1,>=3.4->seaborn) (3.2.3)\n",
            "Requirement already satisfied: python-dateutil>=2.7 in /usr/local/lib/python3.11/dist-packages (from matplotlib!=3.6.1,>=3.4->seaborn) (2.8.2)\n",
            "Requirement already satisfied: pytz>=2020.1 in /usr/local/lib/python3.11/dist-packages (from pandas>=1.2->seaborn) (2025.2)\n",
            "Requirement already satisfied: tzdata>=2022.7 in /usr/local/lib/python3.11/dist-packages (from pandas>=1.2->seaborn) (2025.2)\n",
            "Requirement already satisfied: six>=1.5 in /usr/local/lib/python3.11/dist-packages (from python-dateutil>=2.7->matplotlib!=3.6.1,>=3.4->seaborn) (1.17.0)\n"
          ]
        }
      ],
      "source": [
        "# Ячейка для кода № 11\n",
        "!pip install seaborn"
      ]
    },
    {
      "cell_type": "markdown",
      "metadata": {
        "id": "t1bXI56It2XZ"
      },
      "source": [
        "#### Шаг 2: Нарисуйте корреляционную тепловую карту.\n",
        "\n",
        "Теперь, когда кадры данных готовы, можно отобразить тепловые карты. Далее приведен анализ кода из ячейки ниже:\n",
        "\n",
        "Строка 1: Создает таблицу корреляции, основанную на фрейме данных `womenNoGenderDf` и хранит его в `wcorr`.<br>\n",
        "Строка 2: Использует метод `heatmap()` библиотеки `seaborn` для генерации и построения тепловой карты. Обратите внимание, что `heatmap()` принимает `wcorr`, как параметр.<br>\n",
        "Строка 3: используется для экспорта и сохранения созданной тепловой карты в виде PNG-изображения. Хотя строка 3 не активна (перед ней стоит символ `#`, заставляя интерпретатор игнорировать ее), она сохранена в информационных целях."
      ]
    },
    {
      "cell_type": "code",
      "execution_count": 24,
      "metadata": {
        "colab": {
          "base_uri": "https://localhost:8080/",
          "height": 452
        },
        "id": "1APj2rcZt2XZ",
        "outputId": "5ccdf9e6-ec8e-4d7f-e451-db8cb3a27d52"
      },
      "outputs": [
        {
          "output_type": "display_data",
          "data": {
            "text/plain": [
              "<Figure size 640x480 with 2 Axes>"
            ],
            "image/png": "[encoded data removed]"
          },
          "metadata": {}
        }
      ],
      "source": [
        "import seaborn as sns\n",
        "womenNoGenderDf = womenDf.drop(columns=['Gender'])\n",
        "wcorr = womenNoGenderDf.corr(numeric_only=True)\n",
        "sns.heatmap(wcorr, annot=True, cmap='coolwarm')\n",
        "plt.title(\"Тепловая карта корреляции: Женщины\")\n",
        "plt.show()"
      ]
    },
    {
      "cell_type": "markdown",
      "metadata": {
        "id": "Xr7LdJGVt2Xa"
      },
      "source": [
        "Аналогичным образом создайте и отобразите тепловую карту для кадра данных с мужчинами."
      ]
    },
    {
      "cell_type": "code",
      "execution_count": 25,
      "metadata": {
        "colab": {
          "base_uri": "https://localhost:8080/",
          "height": 452
        },
        "id": "Zc84JUZzt2Xa",
        "outputId": "502d75c9-43fa-4161-c2b1-f20e90dd949e"
      },
      "outputs": [
        {
          "output_type": "display_data",
          "data": {
            "text/plain": [
              "<Figure size 640x480 with 2 Axes>"
            ],
            "image/png": "[encoded data removed]"
          },
          "metadata": {}
        }
      ],
      "source": [
        "menNoGenderDf = menDf.drop(columns=['Gender'])\n",
        "mcorr = menNoGenderDf.corr(numeric_only=True)\n",
        "sns.heatmap(mcorr, annot=True, cmap='coolwarm')\n",
        "plt.title(\"Тепловая карта корреляции: Мужчины\")\n",
        "plt.show()"
      ]
    },
    {
      "cell_type": "markdown",
      "metadata": {
        "id": "py87qfvbt2Xa"
      },
      "source": [
        "У многих пар переменных корреляция близка к нулю. Что это значит?"
      ]
    },
    {
      "cell_type": "markdown",
      "metadata": {
        "id": "moVeoT3zt2Xa"
      },
      "source": [
        "это означает, что между этими переменными нет сильной линейной зависимости"
      ]
    },
    {
      "cell_type": "markdown",
      "metadata": {
        "id": "q4mJRHwst2Xa"
      },
      "source": [
        "Зачем делать разделение по полу?"
      ]
    },
    {
      "cell_type": "markdown",
      "metadata": {
        "id": "6BaVJDLst2Xa"
      },
      "source": [
        "Разделение по полу нужно, чтобы:\n",
        "\n",
        "Учесть биологические различия (например, в объёме мозга).\n",
        "\n",
        "Корректно анализировать связь между показателями (например, IQ и MRI_Count).\n",
        "\n",
        "Избежать смещения в выводах.\n",
        "\n",
        "Сравнить средние значения между мужчинами и женщинами."
      ]
    },
    {
      "cell_type": "markdown",
      "metadata": {
        "id": "4Igc8mXYt2Xa"
      },
      "source": [
        "Какие переменные имеют более сильную корреляцию с размером мозга (MRI_Count)? Это ожидалось? Объясните."
      ]
    },
    {
      "cell_type": "markdown",
      "metadata": {
        "id": "BpQ7fE60t2Xa"
      },
      "source": [
        "Сильнее всего коррелирует вес (Weight) с размером мозга (r ≈ 0.45). Это ожидаемо, потому что люди с большей массой тела часто имеют и более крупное телосложение, включая мозг."
      ]
    }
  ],
  "metadata": {
    "anaconda-cloud": {},
    "kernelspec": {
      "display_name": "Python 3 (ipykernel)",
      "language": "python",
      "name": "python3"
    },
    "language_info": {
      "codemirror_mode": {
        "name": "ipython",
        "version": 3
      },
      "file_extension": ".py",
      "mimetype": "text/x-python",
      "name": "python",
      "nbconvert_exporter": "python",
      "pygments_lexer": "ipython3",
      "version": "3.11.5"
    },
    "colab": {
      "provenance": []
    }
  },
  "nbformat": 4,
  "nbformat_minor": 0
}